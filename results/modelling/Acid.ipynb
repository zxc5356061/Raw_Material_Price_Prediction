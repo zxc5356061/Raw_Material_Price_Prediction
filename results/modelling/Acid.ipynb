{
 "cells": [
  {
   "source": [
    "# Acid\n",
    "```\n",
    "'RM01/0001'\n",
    "'RM01/0004'\n",
    "'RM01/0006'\n",
    "'RM01/0007'\n",
    "```"
   ],
   "metadata": {},
   "cell_type": "markdown",
   "id": "a62679b9-b669-4eb6-859d-fdfbee54ba8f"
  },
  {
   "metadata": {
    "ExecuteTime": {
     "end_time": "2024-12-31T11:13:23.263559Z",
     "start_time": "2024-12-31T11:13:20.894942Z"
    }
   },
   "cell_type": "code",
   "source": [
    "import numpy as np\n",
    "from src import (extract_and_clean as ec,\n",
    "                 transform as ts,\n",
    "                 feature_engineer as fe,\n",
    "                 forecastor as fc,\n",
    "                 format_handle)\n",
    "\n",
    "# Preparations\n",
    "# Import data\n",
    "gas_df = ec.get_fred_data('PNGASEUUSDM', 2014, 2024)\n",
    "wheat_df = ec.get_fred_data('PWHEAMTUSDM', 2014, 2024)\n",
    "ammonia_df = ec.get_fred_data('WPU0652013A', 2014, 2024)\n",
    "elec_df = ec.clean_elec_csv('/Users/barryhuang/Projects/Raw_Material_Price_Prediction/data/raw/ELECTRICITY_03_2024.csv',2014,2024)\n",
    "\n",
    "df = ec.clean_pred_price_evo_csv(\"/Users/barryhuang/Projects/Raw_Material_Price_Prediction/data/raw/Dataset_Future_Predicting_Price_Evolutions_202403.csv\",2014,2023)\n",
    "\n",
    "target = 'acid'.lower()\n",
    "\n",
    "RM_codes = ['RM01/0001','RM01/0004','RM01/0006','RM01/0007']\n",
    "\n",
    "external_drivers = {\n",
    "    \"PNGASEUUSDM\": gas_df,\n",
    "    \"PWHEAMTUSDM\": wheat_df,\n",
    "    \"WPU0652013A\": ammonia_df,\n",
    "    \"Electricity\": elec_df\n",
    "}\n",
    "\n",
    "test_periods = [\n",
    "    ('2019-01-01', '2019-07-01'),\n",
    "    ('2019-07-01', '2020-01-01'),\n",
    "    ('2020-01-01', '2020-07-01'),\n",
    "    ('2020-07-01', '2021-01-01'),\n",
    "    ('2021-01-01', '2021-07-01'),\n",
    "    ('2021-07-01', '2022-01-01'),\n",
    "    ('2022-01-01', '2022-07-01'),\n",
    "    ('2022-07-01', '2023-01-01'),\n",
    "    ('2023-01-01', '2023-07-01'),\n",
    "    ('2023-07-01', '2024-01-01')\n",
    "]\n",
    "\n",
    "lags = [1,3,6]\n",
    "\n",
    "alpha_bottom = 0.01\n"
   ],
   "id": "a237c9c8-84da-4d31-ab1f-5b3f6176e081",
   "outputs": [],
   "execution_count": 1
  },
  {
   "source": [
    "# Impute raw data of target variables \n",
    "imputed_df, missing = ts.impute_pred_price_evo_csv(df)\n",
    "\n",
    "# Feature engineering\n",
    "dummy_df = ts.get_dummies_and_average_price(imputed_df,target,*RM_codes)\n",
    "feature_df = fe.generate_features(1,12,dummy_df,missing,*RM_codes, **external_drivers)\n",
    "#\n",
    "# if type(feature_df.Time) != \"datetime64\":\n",
    "#     feature_df['Time'] = pd.to_datetime(feature_df['Time'])\n",
    "#\n",
    "# assert feature_df['Time'].dtype == \"datetime64[ns]\" , \"df[Time] is not dataetime64.\"\n",
    "#\n",
    "# feature_df = feature_df[feature_df.Year >= 2016]"
   ],
   "metadata": {
    "executionCancelledAt": null,
    "executionTime": 427,
    "lastExecutedAt": 1715180134257,
    "lastExecutedByKernel": "272c96aa-f488-462d-9c3b-31e9986d35fe",
    "lastScheduledRunId": null,
    "lastSuccessfullyExecutedCode": "# Impute raw data of target variables \nimputed_df, missing = pre.impute_pred_price_evo_csv(df)\n\n# Feature engineering\ndummy_df = pre.get_dummies_and_average_price(imputed_df,target,*RM_codes)\nfeature_df = pre.generate_features(1,12,dummy_df,missing,*RM_codes, **external_drivers)\n\nif type(feature_df.Time) != \"datetime64\":\n    feature_df['Time'] = pd.to_datetime(feature_df['Time'])\n\nassert feature_df['Time'].dtype == \"datetime64[ns]\" , \"df[Time] is not dataetime64.\"\n\nfeature_df = feature_df[feature_df.Year >= 2016]",
    "outputsMetadata": {
     "0": {
      "height": 332,
      "type": "stream"
     }
    },
    "ExecuteTime": {
     "end_time": "2024-12-31T11:13:23.442458Z",
     "start_time": "2024-12-31T11:13:23.273701Z"
    }
   },
   "cell_type": "code",
   "id": "3db05cf2-18ba-4d25-915c-3ff47bc4e052",
   "outputs": [
    {
     "ename": "KeyError",
     "evalue": "'Key RM code'",
     "output_type": "error",
     "traceback": [
      "\u001B[0;31m---------------------------------------------------------------------------\u001B[0m",
      "\u001B[0;31mKeyError\u001B[0m                                  Traceback (most recent call last)",
      "Cell \u001B[0;32mIn[2], line 2\u001B[0m\n\u001B[1;32m      1\u001B[0m \u001B[38;5;66;03m# Impute raw data of target variables \u001B[39;00m\n\u001B[0;32m----> 2\u001B[0m imputed_df, missing \u001B[38;5;241m=\u001B[39m \u001B[43mts\u001B[49m\u001B[38;5;241;43m.\u001B[39;49m\u001B[43mimpute_pred_price_evo_csv\u001B[49m\u001B[43m(\u001B[49m\u001B[43mdf\u001B[49m\u001B[43m)\u001B[49m\n\u001B[1;32m      4\u001B[0m \u001B[38;5;66;03m# Feature engineering\u001B[39;00m\n\u001B[1;32m      5\u001B[0m dummy_df \u001B[38;5;241m=\u001B[39m ts\u001B[38;5;241m.\u001B[39mget_dummies_and_average_price(imputed_df,target,\u001B[38;5;241m*\u001B[39mRM_codes)\n",
      "File \u001B[0;32m~/Projects/Raw_Material_Price_Prediction/src/transform.py:18\u001B[0m, in \u001B[0;36mimpute_pred_price_evo_csv\u001B[0;34m(old_df)\u001B[0m\n\u001B[1;32m      8\u001B[0m \u001B[38;5;28;01mdef\u001B[39;00m \u001B[38;5;21mimpute_pred_price_evo_csv\u001B[39m(old_df: pd\u001B[38;5;241m.\u001B[39mDataFrame) \u001B[38;5;241m-\u001B[39m\u001B[38;5;241m>\u001B[39m pd\u001B[38;5;241m.\u001B[39mDataFrame:\n\u001B[1;32m      9\u001B[0m \u001B[38;5;250m    \u001B[39m\u001B[38;5;124;03m\"\"\"\u001B[39;00m\n\u001B[1;32m     10\u001B[0m \u001B[38;5;124;03m    1. Create all combinations of Year Month and Key RM Codes\u001B[39;00m\n\u001B[1;32m     11\u001B[0m \u001B[38;5;124;03m    2. Map the combinations with the imported raw material prices to ensure having all RM Codes for each months\u001B[39;00m\n\u001B[0;32m   (...)\u001B[0m\n\u001B[1;32m     16\u001B[0m \u001B[38;5;124;03m    -> missing: Rows needed to be imputed\u001B[39;00m\n\u001B[1;32m     17\u001B[0m \u001B[38;5;124;03m    \"\"\"\u001B[39;00m\n\u001B[0;32m---> 18\u001B[0m     RM_list \u001B[38;5;241m=\u001B[39m \u001B[43mold_df\u001B[49m\u001B[43m[\u001B[49m\u001B[38;5;124;43m'\u001B[39;49m\u001B[38;5;124;43mKey RM code\u001B[39;49m\u001B[38;5;124;43m'\u001B[39;49m\u001B[43m]\u001B[49m\u001B[38;5;241m.\u001B[39munique()\n\u001B[1;32m     20\u001B[0m     \u001B[38;5;66;03m# Create combinations of ['Year','Month','Key RM code']\u001B[39;00m\n\u001B[1;32m     21\u001B[0m     combinations \u001B[38;5;241m=\u001B[39m pd\u001B[38;5;241m.\u001B[39mDataFrame(\n\u001B[1;32m     22\u001B[0m         [(year, month, rm_code) \u001B[38;5;28;01mfor\u001B[39;00m year \u001B[38;5;129;01min\u001B[39;00m old_df[\u001B[38;5;124m'\u001B[39m\u001B[38;5;124mYear\u001B[39m\u001B[38;5;124m'\u001B[39m]\u001B[38;5;241m.\u001B[39munique() \\\n\u001B[1;32m     23\u001B[0m          \u001B[38;5;28;01mfor\u001B[39;00m month \u001B[38;5;129;01min\u001B[39;00m old_df[\u001B[38;5;124m'\u001B[39m\u001B[38;5;124mMonth\u001B[39m\u001B[38;5;124m'\u001B[39m]\u001B[38;5;241m.\u001B[39munique() \\\n\u001B[1;32m     24\u001B[0m          \u001B[38;5;28;01mfor\u001B[39;00m rm_code \u001B[38;5;129;01min\u001B[39;00m RM_list], \\\n\u001B[1;32m     25\u001B[0m         columns\u001B[38;5;241m=\u001B[39m[\u001B[38;5;124m'\u001B[39m\u001B[38;5;124mYear\u001B[39m\u001B[38;5;124m'\u001B[39m, \u001B[38;5;124m'\u001B[39m\u001B[38;5;124mMonth\u001B[39m\u001B[38;5;124m'\u001B[39m, \u001B[38;5;124m'\u001B[39m\u001B[38;5;124mKey RM code\u001B[39m\u001B[38;5;124m'\u001B[39m]\n\u001B[1;32m     26\u001B[0m     )\n",
      "\u001B[0;31mKeyError\u001B[0m: 'Key RM code'"
     ]
    }
   ],
   "execution_count": 2
  },
  {
   "source": "# Persistent Naive\nfor code in RM_codes:\n    for lag in lags:\n        mape_values = list()\n        for period in test_periods:\n            result = fc.persistence_Naive_MAPE(feature_df,code,lag,period)\n            mape_values.append(result)\n            \n        assert len(mape_values) == len(test_periods), \"len(mape_values)!=len(test_periods)\"\n        average_mape = np.mean(mape_values) \n        print(f\"{target} {code}, {lag}-month lag, Naive, average MAPE: {average_mape:.3f}\")",
   "metadata": {
    "executionCancelledAt": null,
    "executionTime": 200,
    "lastExecutedAt": 1715180134458,
    "lastExecutedByKernel": "272c96aa-f488-462d-9c3b-31e9986d35fe",
    "lastScheduledRunId": null,
    "lastSuccessfullyExecutedCode": "# Persistent Naive\nfor code in RM_codes:\n    for lag in lags:\n        mape_values = list()\n        for period in test_periods:\n            result = fc.persistence_Naive_MAPE(feature_df,code,lag,period)\n            mape_values.append(result)\n            \n        assert len(mape_values) == len(test_periods), \"len(mape_values)!=len(test_periods)\"\n        average_mape = np.mean(mape_values) \n        print(f\"{target} {code}, {lag}-month lag, Naive, average MAPE: {average_mape:.3f}\")",
    "outputsMetadata": {
     "0": {
      "height": 269,
      "type": "stream"
     }
    }
   },
   "cell_type": "code",
   "id": "c680b91d-0e3a-4ebe-9346-5217d5dc7839",
   "outputs": [],
   "execution_count": null
  },
  {
   "source": "# Lasso with autoregression features only\nfor code in RM_codes:\n    for lag in lags:\n        mape_values = list()\n        for period in test_periods:\n            result = fc.train_model_AR(feature_df,code,lag,period,alpha_bottom)\n            mape_values.append(result)\n        \n        assert len(mape_values) == len(test_periods), \"len(mape_values)!=len(test_periods)\"\n        average_mape = np.mean(mape_values) \n        print(f\"{target} {code}, {lag}-month lag, AR, average MAPE: {average_mape:.3f}\")",
   "metadata": {
    "executionCancelledAt": null,
    "executionTime": null,
    "lastExecutedAt": null,
    "lastExecutedByKernel": null,
    "lastScheduledRunId": null,
    "lastSuccessfullyExecutedCode": null,
    "outputsMetadata": {
     "0": {
      "height": 269,
      "type": "stream"
     }
    }
   },
   "cell_type": "code",
   "id": "2e628cd6-50b1-4cd4-8eb5-c4792da88faa",
   "outputs": [],
   "execution_count": null
  },
  {
   "source": "# Lasso with autoregression features and external price drivers\nfor code in RM_codes:\n    for lag in lags:\n        mape_values = list()\n        for period in test_periods:\n            result = fc.train_model_all_features(feature_df,code,lag,period,alpha_bottom)\n            mape_values.append(result)\n        \n        assert len(mape_values) == len(test_periods), \"len(mape_values)!=len(test_periods)\"\n        average_mape = np.mean(mape_values) \n        print(f\"{target} {code}, {lag}-month lag, all features, average MAPE: {average_mape:.3f}\")",
   "metadata": {
    "executionCancelledAt": null,
    "executionTime": null,
    "lastExecutedAt": null,
    "lastExecutedByKernel": null,
    "lastScheduledRunId": null,
    "lastSuccessfullyExecutedCode": null,
    "outputsMetadata": {
     "0": {
      "height": 269,
      "type": "stream"
     },
     "1": {
      "height": 80,
      "type": "stream"
     }
    }
   },
   "cell_type": "code",
   "id": "1ee040e0-cba0-4816-8541-92ae9c97eb1c",
   "outputs": [],
   "execution_count": null
  }
 ],
 "metadata": {
  "language_info": {
   "name": "python",
   "version": "3.10.12",
   "mimetype": "text/x-python",
   "codemirror_mode": {
    "name": "ipython",
    "version": 3
   },
   "pygments_lexer": "ipython3",
   "nbconvert_exporter": "python",
   "file_extension": ".py"
  },
  "kernelspec": {
   "display_name": "Python 3 (ipykernel)",
   "language": "python",
   "name": "python3"
  },
  "editor": "DataLab"
 },
 "nbformat": 4,
 "nbformat_minor": 5
}
