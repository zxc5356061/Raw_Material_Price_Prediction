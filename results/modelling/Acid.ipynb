{
 "cells": [
  {
   "source": [
    "# Acid\n",
    "```\n",
    "'RM01/0001'\n",
    "'RM01/0004'\n",
    "'RM01/0006'\n",
    "'RM01/0007'\n",
    "```"
   ],
   "metadata": {},
   "cell_type": "markdown",
   "id": "a62679b9-b669-4eb6-859d-fdfbee54ba8f"
  },
  {
   "metadata": {
    "ExecuteTime": {
     "end_time": "2024-12-09T20:06:30.488592Z",
     "start_time": "2024-12-09T20:06:29.088509Z"
    }
   },
   "cell_type": "code",
   "source": [
    "from src import extract_and_clean as ec\n",
    "from src import transform as ts\n",
    "from src import feature_engineer as fe\n",
    "import src.forecastor as fc\n",
    "import numpy as np\n",
    "\n",
    "# Preparations\n",
    "# Import data\n",
    "gas_df = ec.get_Fred_data('PNGASEUUSDM',2014,2024)\n",
    "wheat_df = ec.get_Fred_data('PWHEAMTUSDM',2014,2024)\n",
    "ammonia_df = ec.get_Fred_data('WPU0652013A',2014,2024)\n",
    "elec_df = ec.clean_elec_csv('/Users/barryhuang/Projects/Raw_Material_Price_Prediction/data/raw/ELECTRICITY_03_2024.csv',2014,2024)\n",
    "\n",
    "df = ec.clean_pred_price_evo_csv(\"/Users/barryhuang/Projects/Raw_Material_Price_Prediction/data/raw/Dataset_Future_Predicting_Price_Evolutions_202403.csv\",2014,2023)\n",
    "\n",
    "target = 'acid'.lower()\n",
    "\n",
    "RM_codes = ['RM01/0001','RM01/0004','RM01/0006','RM01/0007']\n",
    "\n",
    "external_drivers = {\n",
    "    \"PNGASEUUSDM\": gas_df,\n",
    "    \"PWHEAMTUSDM\": wheat_df,\n",
    "    \"WPU0652013A\": ammonia_df,\n",
    "    \"Electricity\": elec_df\n",
    "}\n",
    "\n",
    "test_periods = [\n",
    "    ('2019-01-01', '2019-07-01'),\n",
    "    ('2019-07-01', '2020-01-01'),\n",
    "    ('2020-01-01', '2020-07-01'),\n",
    "    ('2020-07-01', '2021-01-01'),\n",
    "    ('2021-01-01', '2021-07-01'),\n",
    "    ('2021-07-01', '2022-01-01'),\n",
    "    ('2022-01-01', '2022-07-01'),\n",
    "    ('2022-07-01', '2023-01-01'),\n",
    "    ('2023-01-01', '2023-07-01'),\n",
    "    ('2023-07-01', '2024-01-01')\n",
    "]\n",
    "\n",
    "lags = [1,3,6]\n",
    "\n",
    "alpha_bottom = 0.01\n"
   ],
   "id": "a237c9c8-84da-4d31-ab1f-5b3f6176e081",
   "outputs": [],
   "execution_count": 2
  },
  {
   "source": [
    "# Impute raw data of target variables \n",
    "imputed_df, missing = ts.impute_pred_price_evo_csv(df)\n",
    "\n",
    "# Feature engineering\n",
    "dummy_df = ts.get_dummies_and_average_price(imputed_df,target,*RM_codes)\n",
    "feature_df = fe.generate_features(1,12,dummy_df,missing,*RM_codes, **external_drivers)\n",
    "#\n",
    "# if type(feature_df.Time) != \"datetime64\":\n",
    "#     feature_df['Time'] = pd.to_datetime(feature_df['Time'])\n",
    "#\n",
    "# assert feature_df['Time'].dtype == \"datetime64[ns]\" , \"df[Time] is not dataetime64.\"\n",
    "#\n",
    "# feature_df = feature_df[feature_df.Year >= 2016]"
   ],
   "metadata": {
    "executionCancelledAt": null,
    "executionTime": 427,
    "lastExecutedAt": 1715180134257,
    "lastExecutedByKernel": "272c96aa-f488-462d-9c3b-31e9986d35fe",
    "lastScheduledRunId": null,
    "lastSuccessfullyExecutedCode": "# Impute raw data of target variables \nimputed_df, missing = pre.impute_pred_price_evo_csv(df)\n\n# Feature engineering\ndummy_df = pre.get_dummies_and_average_price(imputed_df,target,*RM_codes)\nfeature_df = pre.generate_features(1,12,dummy_df,missing,*RM_codes, **external_drivers)\n\nif type(feature_df.Time) != \"datetime64\":\n    feature_df['Time'] = pd.to_datetime(feature_df['Time'])\n\nassert feature_df['Time'].dtype == \"datetime64[ns]\" , \"df[Time] is not dataetime64.\"\n\nfeature_df = feature_df[feature_df.Year >= 2016]",
    "outputsMetadata": {
     "0": {
      "height": 332,
      "type": "stream"
     }
    }
   },
   "cell_type": "code",
   "id": "3db05cf2-18ba-4d25-915c-3ff47bc4e052",
   "outputs": [],
   "execution_count": null
  },
  {
   "source": "# Persistent Naive\nfor code in RM_codes:\n    for lag in lags:\n        mape_values = list()\n        for period in test_periods:\n            result = fc.persistence_Naive_MAPE(feature_df,code,lag,period)\n            mape_values.append(result)\n            \n        assert len(mape_values) == len(test_periods), \"len(mape_values)!=len(test_periods)\"\n        average_mape = np.mean(mape_values) \n        print(f\"{target} {code}, {lag}-month lag, Naive, average MAPE: {average_mape:.3f}\")",
   "metadata": {
    "executionCancelledAt": null,
    "executionTime": 200,
    "lastExecutedAt": 1715180134458,
    "lastExecutedByKernel": "272c96aa-f488-462d-9c3b-31e9986d35fe",
    "lastScheduledRunId": null,
    "lastSuccessfullyExecutedCode": "# Persistent Naive\nfor code in RM_codes:\n    for lag in lags:\n        mape_values = list()\n        for period in test_periods:\n            result = fc.persistence_Naive_MAPE(feature_df,code,lag,period)\n            mape_values.append(result)\n            \n        assert len(mape_values) == len(test_periods), \"len(mape_values)!=len(test_periods)\"\n        average_mape = np.mean(mape_values) \n        print(f\"{target} {code}, {lag}-month lag, Naive, average MAPE: {average_mape:.3f}\")",
    "outputsMetadata": {
     "0": {
      "height": 269,
      "type": "stream"
     }
    },
    "ExecuteTime": {
     "end_time": "2024-12-09T20:06:31.018315Z",
     "start_time": "2024-12-09T20:06:30.880770Z"
    }
   },
   "cell_type": "code",
   "id": "c680b91d-0e3a-4ebe-9346-5217d5dc7839",
   "outputs": [
    {
     "name": "stdout",
     "output_type": "stream",
     "text": [
      "acid RM01/0001, 1-month lag, Naive, average MAPE: 4.317\n",
      "acid RM01/0001, 3-month lag, Naive, average MAPE: 11.371\n",
      "acid RM01/0001, 6-month lag, Naive, average MAPE: 21.451\n",
      "acid RM01/0004, 1-month lag, Naive, average MAPE: 9.444\n",
      "acid RM01/0004, 3-month lag, Naive, average MAPE: 14.865\n",
      "acid RM01/0004, 6-month lag, Naive, average MAPE: 25.072\n",
      "acid RM01/0006, 1-month lag, Naive, average MAPE: 9.801\n",
      "acid RM01/0006, 3-month lag, Naive, average MAPE: 13.123\n",
      "acid RM01/0006, 6-month lag, Naive, average MAPE: 21.071\n",
      "acid RM01/0007, 1-month lag, Naive, average MAPE: 12.455\n",
      "acid RM01/0007, 3-month lag, Naive, average MAPE: 16.383\n",
      "acid RM01/0007, 6-month lag, Naive, average MAPE: 23.324\n"
     ]
    }
   ],
   "execution_count": 4
  },
  {
   "source": "# Lasso with autoregression features only\nfor code in RM_codes:\n    for lag in lags:\n        mape_values = list()\n        for period in test_periods:\n            result = fc.train_model_AR(feature_df,code,lag,period,alpha_bottom)\n            mape_values.append(result)\n        \n        assert len(mape_values) == len(test_periods), \"len(mape_values)!=len(test_periods)\"\n        average_mape = np.mean(mape_values) \n        print(f\"{target} {code}, {lag}-month lag, AR, average MAPE: {average_mape:.3f}\")",
   "metadata": {
    "executionCancelledAt": null,
    "executionTime": null,
    "lastExecutedAt": null,
    "lastExecutedByKernel": null,
    "lastScheduledRunId": null,
    "lastSuccessfullyExecutedCode": null,
    "outputsMetadata": {
     "0": {
      "height": 269,
      "type": "stream"
     }
    },
    "ExecuteTime": {
     "end_time": "2024-12-09T20:09:17.446642Z",
     "start_time": "2024-12-09T20:06:31.048610Z"
    }
   },
   "cell_type": "code",
   "id": "2e628cd6-50b1-4cd4-8eb5-c4792da88faa",
   "outputs": [
    {
     "name": "stdout",
     "output_type": "stream",
     "text": [
      "acid RM01/0001, 1-month lag, AR, average MAPE: 5.536\n",
      "acid RM01/0001, 3-month lag, AR, average MAPE: 12.693\n",
      "acid RM01/0001, 6-month lag, AR, average MAPE: 26.898\n",
      "acid RM01/0004, 1-month lag, AR, average MAPE: 9.663\n",
      "acid RM01/0004, 3-month lag, AR, average MAPE: 14.158\n",
      "acid RM01/0004, 6-month lag, AR, average MAPE: 22.682\n",
      "acid RM01/0006, 1-month lag, AR, average MAPE: 9.289\n",
      "acid RM01/0006, 3-month lag, AR, average MAPE: 13.792\n",
      "acid RM01/0006, 6-month lag, AR, average MAPE: 21.592\n",
      "acid RM01/0007, 1-month lag, AR, average MAPE: 16.910\n"
     ]
    },
    {
     "name": "stderr",
     "output_type": "stream",
     "text": [
      "/Users/barryhuang/Projects/Raw_Material_Price_Prediction/.venv/lib/python3.10/site-packages/sklearn/linear_model/_coordinate_descent.py:697: ConvergenceWarning: Objective did not converge. You might want to increase the number of iterations, check the scale of the features or consider increasing regularisation. Duality gap: 1.639e-02, tolerance: 1.455e-03\n",
      "  model = cd_fast.enet_coordinate_descent(\n",
      "/Users/barryhuang/Projects/Raw_Material_Price_Prediction/.venv/lib/python3.10/site-packages/sklearn/linear_model/_coordinate_descent.py:697: ConvergenceWarning: Objective did not converge. You might want to increase the number of iterations, check the scale of the features or consider increasing regularisation. Duality gap: 6.029e-02, tolerance: 1.455e-03\n",
      "  model = cd_fast.enet_coordinate_descent(\n",
      "/Users/barryhuang/Projects/Raw_Material_Price_Prediction/.venv/lib/python3.10/site-packages/sklearn/linear_model/_coordinate_descent.py:697: ConvergenceWarning: Objective did not converge. You might want to increase the number of iterations, check the scale of the features or consider increasing regularisation. Duality gap: 1.010e-02, tolerance: 1.455e-03\n",
      "  model = cd_fast.enet_coordinate_descent(\n",
      "/Users/barryhuang/Projects/Raw_Material_Price_Prediction/.venv/lib/python3.10/site-packages/sklearn/linear_model/_coordinate_descent.py:697: ConvergenceWarning: Objective did not converge. You might want to increase the number of iterations, check the scale of the features or consider increasing regularisation. Duality gap: 8.558e-02, tolerance: 1.455e-03\n",
      "  model = cd_fast.enet_coordinate_descent(\n",
      "/Users/barryhuang/Projects/Raw_Material_Price_Prediction/.venv/lib/python3.10/site-packages/sklearn/linear_model/_coordinate_descent.py:697: ConvergenceWarning: Objective did not converge. You might want to increase the number of iterations, check the scale of the features or consider increasing regularisation. Duality gap: 1.063e-02, tolerance: 1.235e-03\n",
      "  model = cd_fast.enet_coordinate_descent(\n",
      "/Users/barryhuang/Projects/Raw_Material_Price_Prediction/.venv/lib/python3.10/site-packages/sklearn/linear_model/_coordinate_descent.py:697: ConvergenceWarning: Objective did not converge. You might want to increase the number of iterations, check the scale of the features or consider increasing regularisation. Duality gap: 4.226e-02, tolerance: 1.455e-03\n",
      "  model = cd_fast.enet_coordinate_descent(\n",
      "/Users/barryhuang/Projects/Raw_Material_Price_Prediction/.venv/lib/python3.10/site-packages/sklearn/linear_model/_coordinate_descent.py:697: ConvergenceWarning: Objective did not converge. You might want to increase the number of iterations, check the scale of the features or consider increasing regularisation. Duality gap: 4.162e-02, tolerance: 1.455e-03\n",
      "  model = cd_fast.enet_coordinate_descent(\n",
      "/Users/barryhuang/Projects/Raw_Material_Price_Prediction/.venv/lib/python3.10/site-packages/sklearn/linear_model/_coordinate_descent.py:697: ConvergenceWarning: Objective did not converge. You might want to increase the number of iterations, check the scale of the features or consider increasing regularisation. Duality gap: 2.118e-03, tolerance: 1.671e-03\n",
      "  model = cd_fast.enet_coordinate_descent(\n",
      "/Users/barryhuang/Projects/Raw_Material_Price_Prediction/.venv/lib/python3.10/site-packages/sklearn/linear_model/_coordinate_descent.py:697: ConvergenceWarning: Objective did not converge. You might want to increase the number of iterations, check the scale of the features or consider increasing regularisation. Duality gap: 2.696e-03, tolerance: 1.719e-03\n",
      "  model = cd_fast.enet_coordinate_descent(\n"
     ]
    },
    {
     "name": "stdout",
     "output_type": "stream",
     "text": [
      "acid RM01/0007, 3-month lag, AR, average MAPE: 24.730\n"
     ]
    },
    {
     "name": "stderr",
     "output_type": "stream",
     "text": [
      "/Users/barryhuang/Projects/Raw_Material_Price_Prediction/.venv/lib/python3.10/site-packages/sklearn/linear_model/_coordinate_descent.py:697: ConvergenceWarning: Objective did not converge. You might want to increase the number of iterations, check the scale of the features or consider increasing regularisation. Duality gap: 6.309e-03, tolerance: 1.455e-03\n",
      "  model = cd_fast.enet_coordinate_descent(\n",
      "/Users/barryhuang/Projects/Raw_Material_Price_Prediction/.venv/lib/python3.10/site-packages/sklearn/linear_model/_coordinate_descent.py:697: ConvergenceWarning: Objective did not converge. You might want to increase the number of iterations, check the scale of the features or consider increasing regularisation. Duality gap: 3.478e-02, tolerance: 1.455e-03\n",
      "  model = cd_fast.enet_coordinate_descent(\n",
      "/Users/barryhuang/Projects/Raw_Material_Price_Prediction/.venv/lib/python3.10/site-packages/sklearn/linear_model/_coordinate_descent.py:697: ConvergenceWarning: Objective did not converge. You might want to increase the number of iterations, check the scale of the features or consider increasing regularisation. Duality gap: 2.233e-03, tolerance: 1.455e-03\n",
      "  model = cd_fast.enet_coordinate_descent(\n",
      "/Users/barryhuang/Projects/Raw_Material_Price_Prediction/.venv/lib/python3.10/site-packages/sklearn/linear_model/_coordinate_descent.py:697: ConvergenceWarning: Objective did not converge. You might want to increase the number of iterations, check the scale of the features or consider increasing regularisation. Duality gap: 5.712e-03, tolerance: 1.455e-03\n",
      "  model = cd_fast.enet_coordinate_descent(\n",
      "/Users/barryhuang/Projects/Raw_Material_Price_Prediction/.venv/lib/python3.10/site-packages/sklearn/linear_model/_coordinate_descent.py:697: ConvergenceWarning: Objective did not converge. You might want to increase the number of iterations, check the scale of the features or consider increasing regularisation. Duality gap: 5.464e-02, tolerance: 1.455e-03\n",
      "  model = cd_fast.enet_coordinate_descent(\n",
      "/Users/barryhuang/Projects/Raw_Material_Price_Prediction/.venv/lib/python3.10/site-packages/sklearn/linear_model/_coordinate_descent.py:697: ConvergenceWarning: Objective did not converge. You might want to increase the number of iterations, check the scale of the features or consider increasing regularisation. Duality gap: 1.520e-02, tolerance: 1.455e-03\n",
      "  model = cd_fast.enet_coordinate_descent(\n",
      "/Users/barryhuang/Projects/Raw_Material_Price_Prediction/.venv/lib/python3.10/site-packages/sklearn/linear_model/_coordinate_descent.py:697: ConvergenceWarning: Objective did not converge. You might want to increase the number of iterations, check the scale of the features or consider increasing regularisation. Duality gap: 1.701e-02, tolerance: 1.455e-03\n",
      "  model = cd_fast.enet_coordinate_descent(\n"
     ]
    },
    {
     "name": "stdout",
     "output_type": "stream",
     "text": [
      "acid RM01/0007, 6-month lag, AR, average MAPE: 28.414\n"
     ]
    }
   ],
   "execution_count": 5
  },
  {
   "source": "# Lasso with autoregression features and external price drivers\nfor code in RM_codes:\n    for lag in lags:\n        mape_values = list()\n        for period in test_periods:\n            result = fc.train_model_all_features(feature_df,code,lag,period,alpha_bottom)\n            mape_values.append(result)\n        \n        assert len(mape_values) == len(test_periods), \"len(mape_values)!=len(test_periods)\"\n        average_mape = np.mean(mape_values) \n        print(f\"{target} {code}, {lag}-month lag, all features, average MAPE: {average_mape:.3f}\")",
   "metadata": {
    "executionCancelledAt": null,
    "executionTime": null,
    "lastExecutedAt": null,
    "lastExecutedByKernel": null,
    "lastScheduledRunId": null,
    "lastSuccessfullyExecutedCode": null,
    "outputsMetadata": {
     "0": {
      "height": 269,
      "type": "stream"
     },
     "1": {
      "height": 80,
      "type": "stream"
     }
    },
    "ExecuteTime": {
     "end_time": "2024-12-09T20:12:15.177458Z",
     "start_time": "2024-12-09T20:09:17.480460Z"
    }
   },
   "cell_type": "code",
   "id": "1ee040e0-cba0-4816-8541-92ae9c97eb1c",
   "outputs": [
    {
     "name": "stdout",
     "output_type": "stream",
     "text": [
      "acid RM01/0001, 1-month lag, all features, average MAPE: 5.738\n",
      "acid RM01/0001, 3-month lag, all features, average MAPE: 11.114\n",
      "acid RM01/0001, 6-month lag, all features, average MAPE: 21.339\n",
      "acid RM01/0004, 1-month lag, all features, average MAPE: 11.786\n",
      "acid RM01/0004, 3-month lag, all features, average MAPE: 22.362\n",
      "acid RM01/0004, 6-month lag, all features, average MAPE: 33.225\n",
      "acid RM01/0006, 1-month lag, all features, average MAPE: 13.974\n",
      "acid RM01/0006, 3-month lag, all features, average MAPE: 15.762\n",
      "acid RM01/0006, 6-month lag, all features, average MAPE: 22.418\n"
     ]
    },
    {
     "name": "stderr",
     "output_type": "stream",
     "text": [
      "/Users/barryhuang/Projects/Raw_Material_Price_Prediction/.venv/lib/python3.10/site-packages/sklearn/linear_model/_coordinate_descent.py:697: ConvergenceWarning: Objective did not converge. You might want to increase the number of iterations, check the scale of the features or consider increasing regularisation. Duality gap: 1.470e-03, tolerance: 1.455e-03\n",
      "  model = cd_fast.enet_coordinate_descent(\n",
      "/Users/barryhuang/Projects/Raw_Material_Price_Prediction/.venv/lib/python3.10/site-packages/sklearn/linear_model/_coordinate_descent.py:697: ConvergenceWarning: Objective did not converge. You might want to increase the number of iterations, check the scale of the features or consider increasing regularisation. Duality gap: 1.303e-02, tolerance: 3.171e-03\n",
      "  model = cd_fast.enet_coordinate_descent(\n"
     ]
    },
    {
     "name": "stdout",
     "output_type": "stream",
     "text": [
      "acid RM01/0007, 1-month lag, all features, average MAPE: 23.898\n"
     ]
    },
    {
     "name": "stderr",
     "output_type": "stream",
     "text": [
      "/Users/barryhuang/Projects/Raw_Material_Price_Prediction/.venv/lib/python3.10/site-packages/sklearn/linear_model/_coordinate_descent.py:697: ConvergenceWarning: Objective did not converge. You might want to increase the number of iterations, check the scale of the features or consider increasing regularisation. Duality gap: 9.146e-03, tolerance: 1.309e-03\n",
      "  model = cd_fast.enet_coordinate_descent(\n",
      "/Users/barryhuang/Projects/Raw_Material_Price_Prediction/.venv/lib/python3.10/site-packages/sklearn/linear_model/_coordinate_descent.py:697: ConvergenceWarning: Objective did not converge. You might want to increase the number of iterations, check the scale of the features or consider increasing regularisation. Duality gap: 1.678e-03, tolerance: 1.235e-03\n",
      "  model = cd_fast.enet_coordinate_descent(\n",
      "/Users/barryhuang/Projects/Raw_Material_Price_Prediction/.venv/lib/python3.10/site-packages/sklearn/linear_model/_coordinate_descent.py:697: ConvergenceWarning: Objective did not converge. You might want to increase the number of iterations, check the scale of the features or consider increasing regularisation. Duality gap: 8.095e-03, tolerance: 2.000e-03\n",
      "  model = cd_fast.enet_coordinate_descent(\n",
      "/Users/barryhuang/Projects/Raw_Material_Price_Prediction/.venv/lib/python3.10/site-packages/sklearn/linear_model/_coordinate_descent.py:697: ConvergenceWarning: Objective did not converge. You might want to increase the number of iterations, check the scale of the features or consider increasing regularisation. Duality gap: 5.530e-03, tolerance: 1.719e-03\n",
      "  model = cd_fast.enet_coordinate_descent(\n",
      "/Users/barryhuang/Projects/Raw_Material_Price_Prediction/.venv/lib/python3.10/site-packages/sklearn/linear_model/_coordinate_descent.py:697: ConvergenceWarning: Objective did not converge. You might want to increase the number of iterations, check the scale of the features or consider increasing regularisation. Duality gap: 5.625e-03, tolerance: 2.861e-03\n",
      "  model = cd_fast.enet_coordinate_descent(\n"
     ]
    },
    {
     "name": "stdout",
     "output_type": "stream",
     "text": [
      "acid RM01/0007, 3-month lag, all features, average MAPE: 27.501\n"
     ]
    },
    {
     "name": "stderr",
     "output_type": "stream",
     "text": [
      "/Users/barryhuang/Projects/Raw_Material_Price_Prediction/.venv/lib/python3.10/site-packages/sklearn/linear_model/_coordinate_descent.py:697: ConvergenceWarning: Objective did not converge. You might want to increase the number of iterations, check the scale of the features or consider increasing regularisation. Duality gap: 1.508e-03, tolerance: 1.309e-03\n",
      "  model = cd_fast.enet_coordinate_descent(\n",
      "/Users/barryhuang/Projects/Raw_Material_Price_Prediction/.venv/lib/python3.10/site-packages/sklearn/linear_model/_coordinate_descent.py:697: ConvergenceWarning: Objective did not converge. You might want to increase the number of iterations, check the scale of the features or consider increasing regularisation. Duality gap: 1.518e-02, tolerance: 1.671e-03\n",
      "  model = cd_fast.enet_coordinate_descent(\n"
     ]
    },
    {
     "name": "stdout",
     "output_type": "stream",
     "text": [
      "acid RM01/0007, 6-month lag, all features, average MAPE: 28.915\n"
     ]
    }
   ],
   "execution_count": 6
  }
 ],
 "metadata": {
  "language_info": {
   "name": "python",
   "version": "3.10.12",
   "mimetype": "text/x-python",
   "codemirror_mode": {
    "name": "ipython",
    "version": 3
   },
   "pygments_lexer": "ipython3",
   "nbconvert_exporter": "python",
   "file_extension": ".py"
  },
  "kernelspec": {
   "display_name": "Python 3 (ipykernel)",
   "language": "python",
   "name": "python3"
  },
  "editor": "DataLab"
 },
 "nbformat": 4,
 "nbformat_minor": 5
}
