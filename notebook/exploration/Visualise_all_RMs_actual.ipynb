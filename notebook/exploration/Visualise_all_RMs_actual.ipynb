{
 "cells": [
  {
   "source": "# Visualise actual monthly mean prices of all RM_codes",
   "metadata": {},
   "id": "413d7072-e17f-4c75-8250-7346f5c0ef19",
   "cell_type": "markdown"
  },
  {
   "source": [
    "from src import preprocessor as pre\n",
    "import matplotlib.pyplot as plt\n",
    "import seaborn as sns; sns.set_style(\"whitegrid\")\n",
    "\n",
    "def draw_actual_combined_graphs(df, target_dict):\n",
    "    \"\"\"\n",
    "    Visualise actual monthly mean prices of all RM_codes, grouped by Group Description\n",
    "    \"\"\"\n",
    "    for target, RM_codes in target_dict.items():\n",
    "        plt.figure(figsize=(15, 6))\n",
    "        \n",
    "        for code in RM_codes:\n",
    "            # Filter the dataframe for each RM code\n",
    "            code_df = df[df['Key RM code'] == code]\n",
    "            code_df['year_month'] = code_df['Year'].astype(str) + \"-\" + code_df['Month'].astype(str)\n",
    "            \n",
    "            # Plot each RM code's price evolution\n",
    "            sns.lineplot(data=code_df, x='year_month', y='PRICE (EUR/kg)', label=code, ci=None) # ci=None to remove graph shaded area\n",
    "            \n",
    "            filtered_df = code_df[code_df['year_month'].str.endswith(('3', '6', '9', '12'))]\n",
    "            plt.xticks(ticks = filtered_df['year_month'], label = filtered_df['year_month'], rotation=45)\n",
    "            \n",
    "        plt.title(f\"Price Evolution for {target}\")\n",
    "        plt.xlabel(\"Time\")\n",
    "        plt.ylabel(\"Average Price\")\n",
    "        plt.legend(title=\"Key RM Code\")\n",
    "        plt.show()\n",
    "\n",
    "        \n",
    "        \n",
    "def draw_actual_individual_graphs(df, target_dict):\n",
    "    \"\"\"\n",
    "    Visualise actual monthly mean prices of all RM_codes, individually\n",
    "    \"\"\"\n",
    "\n",
    "    for code in df[\"Key RM code\"].unique():\n",
    "        plt.figure(figsize=(15, 6))\n",
    "\n",
    "        # Filter the dataframe for each RM code\n",
    "        code_df = df[df['Key RM code'] == code]\n",
    "        code_df['year_month'] = code_df['Year'].astype(str) + \"-\" + code_df['Month'].astype(str)\n",
    "\n",
    "        # Plot each RM code's price evolution\n",
    "        sns.lineplot(data=code_df, x='year_month', y='PRICE (EUR/kg)', label=code, ci=None) # ci=None to remove graph shaded area\n",
    "\n",
    "        filtered_df = code_df[code_df['year_month'].str.endswith(('3', '6', '9', '12'))]\n",
    "        plt.xticks(ticks = filtered_df['year_month'], label = filtered_df['year_month'], rotation=45)\n",
    "\n",
    "        plt.title(f\"Price Evolution for {code}\")\n",
    "        plt.xlabel(\"Time\")\n",
    "        plt.ylabel(\"Average Price\")\n",
    "        plt.legend(title=\"Key RM Code\")\n",
    "        plt.show()\n",
    "        \n"
   ],
   "metadata": {
    "executionCancelledAt": null,
    "executionTime": 56,
    "lastExecutedAt": 1715293469756,
    "lastExecutedByKernel": "67e22999-418e-4415-a3c6-2b9914ce1c4a",
    "lastScheduledRunId": null,
    "lastSuccessfullyExecutedCode": "import preprocessor as pre\nimport pandas as pd\nimport matplotlib.pyplot as plt\nimport seaborn as sns; sns.set_style(\"whitegrid\")\n\ndef draw_actual_combined_graphs(df, target_dict):\n    \"\"\"\n    Visualise actual monthly mean prices of all RM_codes, grouped by Group Description\n    \"\"\"\n    for target, RM_codes in target_dict.items():\n        plt.figure(figsize=(15, 6))\n        \n        for code in RM_codes:\n            # Filter the dataframe for each RM code\n            code_df = df[df['Key RM code'] == code]\n            code_df['year_month'] = code_df['Year'].astype(str) + \"-\" + code_df['Month'].astype(str)\n            \n            # Plot each RM code's price evolution\n            sns.lineplot(data=code_df, x='year_month', y='PRICE (EUR/kg)', label=code, ci=None) # ci=None to remove graph shaded area\n            \n            filtered_df = code_df[code_df['year_month'].str.endswith(('3', '6', '9', '12'))]\n            plt.xticks(ticks = filtered_df['year_month'], label = filtered_df['year_month'], rotation=45)\n            \n        plt.title(f\"Price Evolution for {target}\")\n        plt.xlabel(\"Time\")\n        plt.ylabel(\"Average Price\")\n        plt.legend(title=\"Key RM Code\")\n        plt.show()\n\n        \n        \ndef draw_actual_individual_graphs(df, target_dict):\n    \"\"\"\n    Visualise actual monthly mean prices of all RM_codes, individually\n    \"\"\"\n\n    for code in df[\"Key RM code\"].unique():\n        plt.figure(figsize=(15, 6))\n\n        # Filter the dataframe for each RM code\n        code_df = df[df['Key RM code'] == code]\n        code_df['year_month'] = code_df['Year'].astype(str) + \"-\" + code_df['Month'].astype(str)\n\n        # Plot each RM code's price evolution\n        sns.lineplot(data=code_df, x='year_month', y='PRICE (EUR/kg)', label=code, ci=None) # ci=None to remove graph shaded area\n\n        filtered_df = code_df[code_df['year_month'].str.endswith(('3', '6', '9', '12'))]\n        plt.xticks(ticks = filtered_df['year_month'], label = filtered_df['year_month'], rotation=45)\n\n        plt.title(f\"Price Evolution for {code}\")\n        plt.xlabel(\"Time\")\n        plt.ylabel(\"Average Price\")\n        plt.legend(title=\"Key RM Code\")\n        plt.show()\n        \n"
   },
   "cell_type": "code",
   "id": "9abade55-a0df-4f4e-9b0c-68c2a3e93df7",
   "outputs": [],
   "execution_count": null
  },
  {
   "source": [
    "\n",
    "df = pre.clean_pred_price_evo_csv('/Users/barryhuang/Projects/Raw_Material_Price_Prediction/data/raw/Dataset_Future_Predicting_Price_Evolutions_202403.csv',2014,2023)\n",
    "\n",
    "df = df[df.Year.between(2016,2023,inclusive=\"both\")]\n",
    "\n",
    "codes = df[\"Group Description\"].sort_values()\n",
    "\n",
    "target_dict = dict()\n",
    "for i in range(0,8):\n",
    "    target_dict[codes.unique()[i]] = df.groupby(codes)[\"Key RM code\"].unique()[i]\n",
    "    \n",
    "imputed_df, missing = pre.impute_pred_price_evo_csv(df)"
   ],
   "metadata": {
    "executionCancelledAt": null,
    "executionTime": 318,
    "lastExecutedAt": 1715293470075,
    "lastExecutedByKernel": "67e22999-418e-4415-a3c6-2b9914ce1c4a",
    "lastScheduledRunId": null,
    "lastSuccessfullyExecutedCode": "\ndf = pre.clean_pred_price_evo_csv('Data_flat_files/Dataset_Future_Predicting_Price_Evolutions_202403.csv',2014,2023)\n\ndf = df[df.Year.between(2016,2023,inclusive=\"both\")]\n\ncodes = df[\"Group Description\"].sort_values()\n\ntarget_dict = dict()\nfor i in range(0,8):\n    target_dict[codes.unique()[i]] = df.groupby(codes)[\"Key RM code\"].unique()[i]\n    \nimputed_df, missing = pre.impute_pred_price_evo_csv(df)",
    "outputsMetadata": {
     "0": {
      "height": 101,
      "type": "stream"
     }
    }
   },
   "id": "8f3c4843-0950-42a3-887a-e37e15cc5cc7",
   "cell_type": "code",
   "outputs": [],
   "execution_count": null
  },
  {
   "source": "draw_actual_combined_graphs(imputed_df, target_dict)",
   "metadata": {
    "executionCancelledAt": null,
    "executionTime": 21990,
    "lastExecutedAt": 1715293492067,
    "lastExecutedByKernel": "67e22999-418e-4415-a3c6-2b9914ce1c4a",
    "lastScheduledRunId": null,
    "lastSuccessfullyExecutedCode": "draw_actual_combined_graphs(imputed_df, target_dict)"
   },
   "cell_type": "code",
   "id": "0ee70f96-21fd-49aa-88a2-fd32a335805b",
   "outputs": [],
   "execution_count": null
  },
  {
   "source": "draw_actual_individual_graphs(imputed_df,target_dict)",
   "metadata": {
    "executionCancelledAt": null,
    "executionTime": 57443,
    "lastExecutedAt": 1715293549510,
    "lastExecutedByKernel": "67e22999-418e-4415-a3c6-2b9914ce1c4a",
    "lastScheduledRunId": null,
    "lastSuccessfullyExecutedCode": "draw_actual_individual_graphs(imputed_df,target_dict)"
   },
   "cell_type": "code",
   "id": "e7d5bb3c-36e1-4299-8fdf-7aad702a724d",
   "outputs": [],
   "execution_count": null
  }
 ],
 "metadata": {
  "language_info": {
   "name": "python",
   "version": "3.10.12",
   "mimetype": "text/x-python",
   "codemirror_mode": {
    "name": "ipython",
    "version": 3
   },
   "pygments_lexer": "ipython3",
   "nbconvert_exporter": "python",
   "file_extension": ".py"
  },
  "kernelspec": {
   "display_name": "Python 3 (ipykernel)",
   "language": "python",
   "name": "python3"
  },
  "editor": "DataCamp Workspace"
 },
 "nbformat": 4,
 "nbformat_minor": 5
}
