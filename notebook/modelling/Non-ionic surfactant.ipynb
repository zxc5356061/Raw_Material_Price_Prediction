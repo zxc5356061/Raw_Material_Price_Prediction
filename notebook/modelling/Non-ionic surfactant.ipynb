{
 "cells": [
  {
   "source": "# Non-ionic surfactant\n```\nRM12/0002, RM12/0003, RM12/0005, RM12/0008, RM12/0012\n```",
   "metadata": {},
   "cell_type": "markdown",
   "id": "e6d6f8b9-63eb-48e0-9185-639c4d81aa1d"
  },
  {
   "source": [
    "import src.preprocessor as pre\n",
    "import src.forecastor as fc\n",
    "import pandas as pd\n",
    "from sklearn.linear_model import Lasso\n",
    "from sklearn.preprocessing import StandardScaler\n",
    "from sklearn.model_selection import RandomizedSearchCV\n",
    "from sklearn.metrics import mean_absolute_percentage_error\n",
    "import numpy as np\n",
    "\n",
    "# Import data\n",
    "gas_df = pre.get_Fred_data('PNGASEUUSDM',2014,2024)\n",
    "crude_oil_df = pre.get_Fred_data('POILBREUSDM',2014,2024)\n",
    "palm_oil_df = pre.get_Fred_data('PPOILUSDM',2014,2024)\n",
    "ammonia_df = pre.get_Fred_data('WPU0652013A',2014,2024)\n",
    "elec_df = pre.clean_elec_csv('/Users/huangp/Documents/Barry/sideproject/Raw_Material_Price_Prediction/data/raw/ELECTRICITY_03_2024.csv',2014,2024)\n",
    "\n",
    "df = pre.clean_pred_price_evo_csv(\"/Users/huangp/Documents/Barry/sideproject/Raw_Material_Price_Prediction/data/raw/Dataset_Future_Predicting_Price_Evolutions_202403.csv\",2014,2023)\n",
    "\n",
    "target = 'non-ionic surfactant'.lower()\n",
    "RM_codes = ['RM12/0002', 'RM12/0003', 'RM12/0005', 'RM12/0008', 'RM12/0012']\n",
    "\n",
    "external_drivers = {\n",
    "    \"PNGASEUUSDM\": gas_df,\n",
    "    'POILBREUSDM': crude_oil_df,\n",
    "    'PPOILUSDM': palm_oil_df,\n",
    "    \"WPU0652013A\": ammonia_df,\n",
    "    \"Electricity\": elec_df\n",
    "}\n",
    "\n",
    "test_periods = [\n",
    "    ('2019-01-01', '2019-07-01'),\n",
    "    ('2019-07-01', '2020-01-01'),\n",
    "    ('2020-01-01', '2020-07-01'),\n",
    "    ('2020-07-01', '2021-01-01'),\n",
    "    ('2021-01-01', '2021-07-01'),\n",
    "    ('2021-07-01', '2022-01-01'),\n",
    "    ('2022-01-01', '2022-07-01'),\n",
    "    ('2022-07-01', '2023-01-01'),\n",
    "    ('2023-01-01', '2023-07-01'),\n",
    "    ('2023-07-01', '2024-01-01')\n",
    "]\n",
    "\n",
    "lags = [1,3,6]\n",
    "\n",
    "alpha_bottom = 0.01"
   ],
   "metadata": {
    "executionCancelledAt": null,
    "executionTime": 2317,
    "lastExecutedAt": 1715180728274,
    "lastExecutedByKernel": "d7067aa0-cf15-4d05-b3e0-e637064017fb",
    "lastScheduledRunId": null,
    "lastSuccessfullyExecutedCode": "import preprocessor as pre\nimport forecastor as fc\nimport pandas as pd\nfrom sklearn.linear_model import Lasso\nfrom sklearn.preprocessing import StandardScaler\nfrom sklearn.model_selection import RandomizedSearchCV\nfrom sklearn.metrics import mean_absolute_percentage_error\nimport numpy as np\n\n# Import data\ngas_df = pre.get_Fred_data('PNGASEUUSDM',2014,2024)\ncrude_oil_df = pre.get_Fred_data('POILBREUSDM',2014,2024)\npalm_oil_df = pre.get_Fred_data('PPOILUSDM',2014,2024)\nammonia_df = pre.get_Fred_data('WPU0652013A',2014,2024)\nelec_df = pre.clean_elec_csv('Data_flat_files/ELECTRICITY_03_2024.csv',2014,2024)\n\ndf = pre.clean_pred_price_evo_csv(\"Data_flat_files/Dataset_Future_Predicting_Price_Evolutions_202403.csv\",2014,2023)\n\ntarget = 'non-ionic surfactant'.lower()\nRM_codes = ['RM12/0002', 'RM12/0003', 'RM12/0005', 'RM12/0008', 'RM12/0012']\n\nexternal_drivers = {\n    \"PNGASEUUSDM\": gas_df,\n    'POILBREUSDM': crude_oil_df,\n    'PPOILUSDM': palm_oil_df,\n    \"WPU0652013A\": ammonia_df,\n    \"Electricity\": elec_df\n}\n\ntest_periods = [\n    ('2019-01-01', '2019-07-01'),\n    ('2019-07-01', '2020-01-01'),\n    ('2020-01-01', '2020-07-01'),\n    ('2020-07-01', '2021-01-01'),\n    ('2021-01-01', '2021-07-01'),\n    ('2021-07-01', '2022-01-01'),\n    ('2022-01-01', '2022-07-01'),\n    ('2022-07-01', '2023-01-01'),\n    ('2023-01-01', '2023-07-01'),\n    ('2023-07-01', '2024-01-01')\n]\n\nlags = [1,3,6]\n\nalpha_bottom = 0.01",
    "ExecuteTime": {
     "end_time": "2024-10-25T07:59:41.606635Z",
     "start_time": "2024-10-25T07:59:33.175047Z"
    }
   },
   "id": "a237c9c8-84da-4d31-ab1f-5b3f6176e081",
   "cell_type": "code",
   "outputs": [],
   "execution_count": 1
  },
  {
   "source": "# Impute raw data of target variables \nimputed_df, missing = pre.impute_pred_price_evo_csv(df)\n\n# Feature engineering\ndummy_df = pre.get_dummies_and_average_price(imputed_df,target,*RM_codes)\nfeature_df = pre.generate_features(1,12,dummy_df,missing,*RM_codes, **external_drivers)\n\nif type(feature_df.Time) != \"datetime64\":\n    feature_df['Time'] = pd.to_datetime(feature_df['Time'])\n\nassert feature_df['Time'].dtype == \"datetime64[ns]\" , \"df[Time] is not dataetime64.\"\n\nfeature_df = feature_df[feature_df.Year >= 2016]",
   "metadata": {
    "executionCancelledAt": null,
    "executionTime": 437,
    "lastExecutedAt": 1715180728713,
    "lastExecutedByKernel": "d7067aa0-cf15-4d05-b3e0-e637064017fb",
    "lastScheduledRunId": null,
    "lastSuccessfullyExecutedCode": "# Impute raw data of target variables \nimputed_df, missing = pre.impute_pred_price_evo_csv(df)\n\n# Feature engineering\ndummy_df = pre.get_dummies_and_average_price(imputed_df,target,*RM_codes)\nfeature_df = pre.generate_features(1,12,dummy_df,missing,*RM_codes, **external_drivers)\n\nif type(feature_df.Time) != \"datetime64\":\n    feature_df['Time'] = pd.to_datetime(feature_df['Time'])\n\nassert feature_df['Time'].dtype == \"datetime64[ns]\" , \"df[Time] is not dataetime64.\"\n\nfeature_df = feature_df[feature_df.Year >= 2016]",
    "outputsMetadata": {
     "0": {
      "height": 332,
      "type": "stream"
     }
    },
    "ExecuteTime": {
     "end_time": "2024-10-25T07:59:42.144724Z",
     "start_time": "2024-10-25T07:59:41.608254Z"
    }
   },
   "id": "3db05cf2-18ba-4d25-915c-3ff47bc4e052",
   "cell_type": "code",
   "outputs": [
    {
     "ename": "AssertionError",
     "evalue": "RM codes don't align with the group description.",
     "output_type": "error",
     "traceback": [
      "\u001B[0;31m---------------------------------------------------------------------------\u001B[0m",
      "\u001B[0;31mAssertionError\u001B[0m                            Traceback (most recent call last)",
      "Cell \u001B[0;32mIn[2], line 5\u001B[0m\n\u001B[1;32m      2\u001B[0m imputed_df, missing \u001B[38;5;241m=\u001B[39m pre\u001B[38;5;241m.\u001B[39mimpute_pred_price_evo_csv(df)\n\u001B[1;32m      4\u001B[0m \u001B[38;5;66;03m# Feature engineering\u001B[39;00m\n\u001B[0;32m----> 5\u001B[0m dummy_df \u001B[38;5;241m=\u001B[39m \u001B[43mpre\u001B[49m\u001B[38;5;241;43m.\u001B[39;49m\u001B[43mget_dummies_and_average_price\u001B[49m\u001B[43m(\u001B[49m\u001B[43mimputed_df\u001B[49m\u001B[43m,\u001B[49m\u001B[43mtarget\u001B[49m\u001B[43m,\u001B[49m\u001B[38;5;241;43m*\u001B[39;49m\u001B[43mRM_codes\u001B[49m\u001B[43m)\u001B[49m\n\u001B[1;32m      6\u001B[0m feature_df \u001B[38;5;241m=\u001B[39m pre\u001B[38;5;241m.\u001B[39mgenerate_features(\u001B[38;5;241m1\u001B[39m,\u001B[38;5;241m12\u001B[39m,dummy_df,missing,\u001B[38;5;241m*\u001B[39mRM_codes, \u001B[38;5;241m*\u001B[39m\u001B[38;5;241m*\u001B[39mexternal_drivers)\n\u001B[1;32m      8\u001B[0m \u001B[38;5;28;01mif\u001B[39;00m \u001B[38;5;28mtype\u001B[39m(feature_df\u001B[38;5;241m.\u001B[39mTime) \u001B[38;5;241m!=\u001B[39m \u001B[38;5;124m\"\u001B[39m\u001B[38;5;124mdatetime64\u001B[39m\u001B[38;5;124m\"\u001B[39m:\n",
      "File \u001B[0;32m~/Documents/Barry/sideproject/Raw_Material_Price_Prediction/src/preprocessor.py:140\u001B[0m, in \u001B[0;36mget_dummies_and_average_price\u001B[0;34m(raw_df, target, *args)\u001B[0m\n\u001B[1;32m    138\u001B[0m valid_codes \u001B[38;5;241m=\u001B[39m raw_df[\u001B[38;5;124m'\u001B[39m\u001B[38;5;124mKey RM code\u001B[39m\u001B[38;5;124m'\u001B[39m]\n\u001B[1;32m    139\u001B[0m raw_df[\u001B[38;5;124m'\u001B[39m\u001B[38;5;124mGroup Description\u001B[39m\u001B[38;5;124m'\u001B[39m] \u001B[38;5;241m=\u001B[39m raw_df[\u001B[38;5;124m'\u001B[39m\u001B[38;5;124mGroup Description\u001B[39m\u001B[38;5;124m'\u001B[39m]\u001B[38;5;241m.\u001B[39mstr\u001B[38;5;241m.\u001B[39mlower()\n\u001B[0;32m--> 140\u001B[0m \u001B[38;5;28;01massert\u001B[39;00m raw_df\u001B[38;5;241m.\u001B[39mloc[valid_codes\u001B[38;5;241m.\u001B[39misin(\n\u001B[1;32m    141\u001B[0m     args), \u001B[38;5;124m'\u001B[39m\u001B[38;5;124mGroup Description\u001B[39m\u001B[38;5;124m'\u001B[39m]\u001B[38;5;241m.\u001B[39munique()\u001B[38;5;241m.\u001B[39mall() \u001B[38;5;241m==\u001B[39m target, \u001B[38;5;124m\"\u001B[39m\u001B[38;5;124mRM codes don\u001B[39m\u001B[38;5;124m'\u001B[39m\u001B[38;5;124mt align with the group description.\u001B[39m\u001B[38;5;124m\"\u001B[39m\n\u001B[1;32m    142\u001B[0m \u001B[38;5;28;01mfor\u001B[39;00m i \u001B[38;5;129;01min\u001B[39;00m args:\n\u001B[1;32m    143\u001B[0m     \u001B[38;5;28;01mif\u001B[39;00m i \u001B[38;5;129;01mnot\u001B[39;00m \u001B[38;5;129;01min\u001B[39;00m valid_codes\u001B[38;5;241m.\u001B[39munique():\n",
      "\u001B[0;31mAssertionError\u001B[0m: RM codes don't align with the group description."
     ]
    }
   ],
   "execution_count": 2
  },
  {
   "source": "# Persistent Naive\nfor code in RM_codes:\n    for lag in lags:\n        mape_values = list()\n        for period in test_periods:\n            result = fc.persistence_Naive_MAPE(feature_df,code,lag,period)\n            mape_values.append(result)\n            \n        assert len(mape_values) == len(test_periods), \"len(mape_values)!=len(test_periods)\"\n        average_mape = np.mean(mape_values) \n        print(f\"{target} {code}, {lag}-month lag, Naive, average MAPE: {average_mape:.3f}\")",
   "metadata": {
    "executionCancelledAt": null,
    "executionTime": 257,
    "lastExecutedAt": 1715180728972,
    "lastExecutedByKernel": "d7067aa0-cf15-4d05-b3e0-e637064017fb",
    "lastScheduledRunId": null,
    "lastSuccessfullyExecutedCode": "# Persistent Naive\nfor code in RM_codes:\n    for lag in lags:\n        mape_values = list()\n        for period in test_periods:\n            result = fc.persistence_Naive_MAPE(feature_df,code,lag,period)\n            mape_values.append(result)\n            \n        assert len(mape_values) == len(test_periods), \"len(mape_values)!=len(test_periods)\"\n        average_mape = np.mean(mape_values) \n        print(f\"{target} {code}, {lag}-month lag, Naive, average MAPE: {average_mape:.3f}\")",
    "outputsMetadata": {
     "0": {
      "height": 332,
      "type": "stream"
     }
    },
    "ExecuteTime": {
     "end_time": "2024-10-25T07:59:42.145985Z",
     "start_time": "2024-10-25T07:59:42.145888Z"
    }
   },
   "cell_type": "code",
   "id": "96d4f4f7-8554-45bf-b049-bf08f18e7b48",
   "outputs": [],
   "execution_count": null
  },
  {
   "source": "# Lasso with autoregression features only\nfor code in RM_codes:\n    for lag in lags:\n        mape_values = list()\n        for period in test_periods:\n            result = fc.train_model_AR(feature_df,code,lag,period,alpha_bottom)\n            mape_values.append(result)\n        \n        assert len(mape_values) == len(test_periods), \"len(mape_values)!=len(test_periods)\"\n        average_mape = np.mean(mape_values) \n        print(f\"{target} {code}, {lag}-month lag, AR, average MAPE: {average_mape:.3f}\")",
   "metadata": {
    "executionCancelledAt": null,
    "executionTime": null,
    "lastExecutedAt": null,
    "lastExecutedByKernel": null,
    "lastScheduledRunId": null,
    "lastSuccessfullyExecutedCode": null,
    "outputsMetadata": {
     "0": {
      "height": 332,
      "type": "stream"
     }
    }
   },
   "cell_type": "code",
   "id": "c92572ed-2f00-46e4-882a-f9d1f12e92f1",
   "outputs": [],
   "execution_count": null
  },
  {
   "source": "# Lasso with autoregression features and external price drivers\nfor code in RM_codes:\n    for lag in lags:\n        mape_values = list()\n        for period in test_periods:\n            result = fc.train_model_all_features(feature_df,code,lag,period,alpha_bottom)\n            mape_values.append(result)\n        \n        assert len(mape_values) == len(test_periods), \"len(mape_values)!=len(test_periods)\"\n        average_mape = np.mean(mape_values) \n        print(f\"{target} {code}, {lag}-month lag, all features, average MAPE: {average_mape:.3f}\")",
   "metadata": {
    "executionCancelledAt": null,
    "executionTime": null,
    "lastExecutedAt": null,
    "lastExecutedByKernel": null,
    "lastScheduledRunId": null,
    "lastSuccessfullyExecutedCode": null,
    "outputsMetadata": {
     "0": {
      "height": 332,
      "type": "stream"
     }
    }
   },
   "cell_type": "code",
   "id": "d437b481-b015-4e2a-b57b-80046ad4f5f6",
   "outputs": [],
   "execution_count": null
  }
 ],
 "metadata": {
  "language_info": {
   "name": "python",
   "version": "3.10.12",
   "mimetype": "text/x-python",
   "codemirror_mode": {
    "name": "ipython",
    "version": 3
   },
   "pygments_lexer": "ipython3",
   "nbconvert_exporter": "python",
   "file_extension": ".py"
  },
  "kernelspec": {
   "display_name": "Python 3 (ipykernel)",
   "language": "python",
   "name": "python3"
  },
  "editor": "DataLab"
 },
 "nbformat": 4,
 "nbformat_minor": 5
}
