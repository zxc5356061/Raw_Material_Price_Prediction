{
 "cells": [
  {
   "source": [
    "# Non-ionic surfactant\n",
    "```\n",
    "RM012/0002, RM12/0003, RM012/0005, RM012/0008, RM012/0012\n",
    "```"
   ],
   "metadata": {},
   "cell_type": "markdown",
   "id": "e6d6f8b9-63eb-48e0-9185-639c4d81aa1d"
  },
  {
   "source": [
    "import src.preprocessor as pre\n",
    "import src.forecastor as fc\n",
    "import pandas as pd\n",
    "from sklearn.linear_model import Lasso\n",
    "from sklearn.preprocessing import StandardScaler\n",
    "from sklearn.model_selection import RandomizedSearchCV\n",
    "from sklearn.metrics import mean_absolute_percentage_error\n",
    "import numpy as np\n",
    "\n",
    "# Import data\n",
    "gas_df = pre.get_Fred_data('PNGASEUUSDM',2014,2024)\n",
    "crude_oil_df = pre.get_Fred_data('POILBREUSDM',2014,2024)\n",
    "palm_oil_df = pre.get_Fred_data('PPOILUSDM',2014,2024)\n",
    "ammonia_df = pre.get_Fred_data('WPU0652013A',2014,2024)\n",
    "elec_df = pre.clean_elec_csv('/Users/huangp/Documents/Barry/sideproject/Raw_Material_Price_Prediction/data/raw/ELECTRICITY_03_2024.csv',2014,2024)\n",
    "\n",
    "df = pre.clean_pred_price_evo_csv(\"/Users/huangp/Documents/Barry/sideproject/Raw_Material_Price_Prediction/data/raw/Dataset_Future_Predicting_Price_Evolutions_202403.csv\",2014,2023)\n",
    "\n",
    "target = 'non-ionic surfactant'.lower()\n",
    "RM_codes = ['RM12/0002', 'RM12/0003', 'RM12/0005', 'RM12/0008', 'RM12/0012']\n",
    "\n",
    "external_drivers = {\n",
    "    \"PNGASEUUSDM\": gas_df,\n",
    "    'POILBREUSDM': crude_oil_df,\n",
    "    'PPOILUSDM': palm_oil_df,\n",
    "    \"WPU0652013A\": ammonia_df,\n",
    "    \"Electricity\": elec_df\n",
    "}\n",
    "\n",
    "test_periods = [\n",
    "    ('2019-01-01', '2019-07-01'),\n",
    "    ('2019-07-01', '2020-01-01'),\n",
    "    ('2020-01-01', '2020-07-01'),\n",
    "    ('2020-07-01', '2021-01-01'),\n",
    "    ('2021-01-01', '2021-07-01'),\n",
    "    ('2021-07-01', '2022-01-01'),\n",
    "    ('2022-01-01', '2022-07-01'),\n",
    "    ('2022-07-01', '2023-01-01'),\n",
    "    ('2023-01-01', '2023-07-01'),\n",
    "    ('2023-07-01', '2024-01-01')\n",
    "]\n",
    "\n",
    "lags = [1,3,6]\n",
    "\n",
    "alpha_bottom = 0.01"
   ],
   "metadata": {
    "executionCancelledAt": null,
    "executionTime": 2317,
    "lastExecutedAt": 1715180728274,
    "lastExecutedByKernel": "d7067aa0-cf15-4d05-b3e0-e637064017fb",
    "lastScheduledRunId": null,
    "lastSuccessfullyExecutedCode": "import preprocessor as pre\nimport forecastor as fc\nimport pandas as pd\nfrom sklearn.linear_model import Lasso\nfrom sklearn.preprocessing import StandardScaler\nfrom sklearn.model_selection import RandomizedSearchCV\nfrom sklearn.metrics import mean_absolute_percentage_error\nimport numpy as np\n\n# Import data\ngas_df = pre.get_Fred_data('PNGASEUUSDM',2014,2024)\ncrude_oil_df = pre.get_Fred_data('POILBREUSDM',2014,2024)\npalm_oil_df = pre.get_Fred_data('PPOILUSDM',2014,2024)\nammonia_df = pre.get_Fred_data('WPU0652013A',2014,2024)\nelec_df = pre.clean_elec_csv('Data_flat_files/ELECTRICITY_03_2024.csv',2014,2024)\n\ndf = pre.clean_pred_price_evo_csv(\"Data_flat_files/Dataset_Future_Predicting_Price_Evolutions_202403.csv\",2014,2023)\n\ntarget = 'non-ionic surfactant'.lower()\nRM_codes = ['RM12/0002', 'RM12/0003', 'RM12/0005', 'RM12/0008', 'RM12/0012']\n\nexternal_drivers = {\n    \"PNGASEUUSDM\": gas_df,\n    'POILBREUSDM': crude_oil_df,\n    'PPOILUSDM': palm_oil_df,\n    \"WPU0652013A\": ammonia_df,\n    \"Electricity\": elec_df\n}\n\ntest_periods = [\n    ('2019-01-01', '2019-07-01'),\n    ('2019-07-01', '2020-01-01'),\n    ('2020-01-01', '2020-07-01'),\n    ('2020-07-01', '2021-01-01'),\n    ('2021-01-01', '2021-07-01'),\n    ('2021-07-01', '2022-01-01'),\n    ('2022-01-01', '2022-07-01'),\n    ('2022-07-01', '2023-01-01'),\n    ('2023-01-01', '2023-07-01'),\n    ('2023-07-01', '2024-01-01')\n]\n\nlags = [1,3,6]\n\nalpha_bottom = 0.01",
    "ExecuteTime": {
     "end_time": "2024-11-14T16:45:52.712327Z",
     "start_time": "2024-11-14T16:45:50.875967Z"
    }
   },
   "id": "a237c9c8-84da-4d31-ab1f-5b3f6176e081",
   "cell_type": "code",
   "outputs": [],
   "execution_count": 1
  },
  {
   "source": "# Impute raw data of target variables \nimputed_df, missing = pre.impute_pred_price_evo_csv(df)\n\n# Feature engineering\ndummy_df = pre.get_dummies_and_average_price(imputed_df,target,*RM_codes)\nfeature_df = pre.generate_features(1,12,dummy_df,missing,*RM_codes, **external_drivers)\n\nif type(feature_df.Time) != \"datetime64\":\n    feature_df['Time'] = pd.to_datetime(feature_df['Time'])\n\nassert feature_df['Time'].dtype == \"datetime64[ns]\" , \"df[Time] is not dataetime64.\"\n\nfeature_df = feature_df[feature_df.Year >= 2016]",
   "metadata": {
    "executionCancelledAt": null,
    "executionTime": 437,
    "lastExecutedAt": 1715180728713,
    "lastExecutedByKernel": "d7067aa0-cf15-4d05-b3e0-e637064017fb",
    "lastScheduledRunId": null,
    "lastSuccessfullyExecutedCode": "# Impute raw data of target variables \nimputed_df, missing = pre.impute_pred_price_evo_csv(df)\n\n# Feature engineering\ndummy_df = pre.get_dummies_and_average_price(imputed_df,target,*RM_codes)\nfeature_df = pre.generate_features(1,12,dummy_df,missing,*RM_codes, **external_drivers)\n\nif type(feature_df.Time) != \"datetime64\":\n    feature_df['Time'] = pd.to_datetime(feature_df['Time'])\n\nassert feature_df['Time'].dtype == \"datetime64[ns]\" , \"df[Time] is not dataetime64.\"\n\nfeature_df = feature_df[feature_df.Year >= 2016]",
    "outputsMetadata": {
     "0": {
      "height": 332,
      "type": "stream"
     }
    }
   },
   "id": "3db05cf2-18ba-4d25-915c-3ff47bc4e052",
   "cell_type": "code",
   "outputs": [],
   "execution_count": null
  },
  {
   "source": "# Persistent Naive\nfor code in RM_codes:\n    for lag in lags:\n        mape_values = list()\n        for period in test_periods:\n            result = fc.persistence_Naive_MAPE(feature_df,code,lag,period)\n            mape_values.append(result)\n            \n        assert len(mape_values) == len(test_periods), \"len(mape_values)!=len(test_periods)\"\n        average_mape = np.mean(mape_values) \n        print(f\"{target} {code}, {lag}-month lag, Naive, average MAPE: {average_mape:.3f}\")",
   "metadata": {
    "executionCancelledAt": null,
    "executionTime": 257,
    "lastExecutedAt": 1715180728972,
    "lastExecutedByKernel": "d7067aa0-cf15-4d05-b3e0-e637064017fb",
    "lastScheduledRunId": null,
    "lastSuccessfullyExecutedCode": "# Persistent Naive\nfor code in RM_codes:\n    for lag in lags:\n        mape_values = list()\n        for period in test_periods:\n            result = fc.persistence_Naive_MAPE(feature_df,code,lag,period)\n            mape_values.append(result)\n            \n        assert len(mape_values) == len(test_periods), \"len(mape_values)!=len(test_periods)\"\n        average_mape = np.mean(mape_values) \n        print(f\"{target} {code}, {lag}-month lag, Naive, average MAPE: {average_mape:.3f}\")",
    "outputsMetadata": {
     "0": {
      "height": 332,
      "type": "stream"
     }
    },
    "ExecuteTime": {
     "end_time": "2024-11-14T16:45:53.049853Z",
     "start_time": "2024-11-14T16:45:52.941187Z"
    }
   },
   "cell_type": "code",
   "id": "96d4f4f7-8554-45bf-b049-bf08f18e7b48",
   "outputs": [
    {
     "name": "stdout",
     "output_type": "stream",
     "text": [
      "non-ionic surfactant RM12/0002, 1-month lag, Naive, average MAPE: 15.539\n",
      "non-ionic surfactant RM12/0002, 3-month lag, Naive, average MAPE: 17.285\n",
      "non-ionic surfactant RM12/0002, 6-month lag, Naive, average MAPE: 15.012\n",
      "non-ionic surfactant RM12/0003, 1-month lag, Naive, average MAPE: 7.916\n",
      "non-ionic surfactant RM12/0003, 3-month lag, Naive, average MAPE: 9.015\n",
      "non-ionic surfactant RM12/0003, 6-month lag, Naive, average MAPE: 12.152\n",
      "non-ionic surfactant RM12/0005, 1-month lag, Naive, average MAPE: 7.766\n",
      "non-ionic surfactant RM12/0005, 3-month lag, Naive, average MAPE: 8.976\n",
      "non-ionic surfactant RM12/0005, 6-month lag, Naive, average MAPE: 12.204\n",
      "non-ionic surfactant RM12/0008, 1-month lag, Naive, average MAPE: 13.935\n",
      "non-ionic surfactant RM12/0008, 3-month lag, Naive, average MAPE: 13.658\n",
      "non-ionic surfactant RM12/0008, 6-month lag, Naive, average MAPE: 15.578\n",
      "non-ionic surfactant RM12/0012, 1-month lag, Naive, average MAPE: 9.571\n",
      "non-ionic surfactant RM12/0012, 3-month lag, Naive, average MAPE: 11.850\n",
      "non-ionic surfactant RM12/0012, 6-month lag, Naive, average MAPE: 16.647\n"
     ]
    }
   ],
   "execution_count": 3
  },
  {
   "source": "# Lasso with autoregression features only\nfor code in RM_codes:\n    for lag in lags:\n        mape_values = list()\n        for period in test_periods:\n            result = fc.train_model_AR(feature_df,code,lag,period,alpha_bottom)\n            mape_values.append(result)\n        \n        assert len(mape_values) == len(test_periods), \"len(mape_values)!=len(test_periods)\"\n        average_mape = np.mean(mape_values) \n        print(f\"{target} {code}, {lag}-month lag, AR, average MAPE: {average_mape:.3f}\")",
   "metadata": {
    "executionCancelledAt": null,
    "executionTime": null,
    "lastExecutedAt": null,
    "lastExecutedByKernel": null,
    "lastScheduledRunId": null,
    "lastSuccessfullyExecutedCode": null,
    "outputsMetadata": {
     "0": {
      "height": 332,
      "type": "stream"
     }
    },
    "ExecuteTime": {
     "end_time": "2024-11-14T16:48:01.572719Z",
     "start_time": "2024-11-14T16:45:53.050742Z"
    }
   },
   "cell_type": "code",
   "id": "c92572ed-2f00-46e4-882a-f9d1f12e92f1",
   "outputs": [
    {
     "name": "stdout",
     "output_type": "stream",
     "text": [
      "non-ionic surfactant RM12/0002, 1-month lag, AR, average MAPE: 15.849\n",
      "non-ionic surfactant RM12/0002, 3-month lag, AR, average MAPE: 15.826\n",
      "non-ionic surfactant RM12/0002, 6-month lag, AR, average MAPE: 16.586\n",
      "non-ionic surfactant RM12/0003, 1-month lag, AR, average MAPE: 7.738\n",
      "non-ionic surfactant RM12/0003, 3-month lag, AR, average MAPE: 8.465\n",
      "non-ionic surfactant RM12/0003, 6-month lag, AR, average MAPE: 11.848\n",
      "non-ionic surfactant RM12/0005, 1-month lag, AR, average MAPE: 8.592\n",
      "non-ionic surfactant RM12/0005, 3-month lag, AR, average MAPE: 10.651\n",
      "non-ionic surfactant RM12/0005, 6-month lag, AR, average MAPE: 12.858\n",
      "non-ionic surfactant RM12/0008, 1-month lag, AR, average MAPE: 13.993\n",
      "non-ionic surfactant RM12/0008, 3-month lag, AR, average MAPE: 14.002\n",
      "non-ionic surfactant RM12/0008, 6-month lag, AR, average MAPE: 15.777\n",
      "non-ionic surfactant RM12/0012, 1-month lag, AR, average MAPE: 12.486\n",
      "non-ionic surfactant RM12/0012, 3-month lag, AR, average MAPE: 14.632\n",
      "non-ionic surfactant RM12/0012, 6-month lag, AR, average MAPE: 15.059\n"
     ]
    }
   ],
   "execution_count": 4
  },
  {
   "source": "# Lasso with autoregression features and external price drivers\nfor code in RM_codes:\n    for lag in lags:\n        mape_values = list()\n        for period in test_periods:\n            result = fc.train_model_all_features(feature_df,code,lag,period,alpha_bottom)\n            mape_values.append(result)\n        \n        assert len(mape_values) == len(test_periods), \"len(mape_values)!=len(test_periods)\"\n        average_mape = np.mean(mape_values) \n        print(f\"{target} {code}, {lag}-month lag, all features, average MAPE: {average_mape:.3f}\")",
   "metadata": {
    "executionCancelledAt": null,
    "executionTime": null,
    "lastExecutedAt": null,
    "lastExecutedByKernel": null,
    "lastScheduledRunId": null,
    "lastSuccessfullyExecutedCode": null,
    "outputsMetadata": {
     "0": {
      "height": 332,
      "type": "stream"
     }
    },
    "ExecuteTime": {
     "end_time": "2024-11-14T16:50:20.132809Z",
     "start_time": "2024-11-14T16:48:01.573608Z"
    }
   },
   "cell_type": "code",
   "id": "d437b481-b015-4e2a-b57b-80046ad4f5f6",
   "outputs": [
    {
     "name": "stderr",
     "output_type": "stream",
     "text": [
      "/Users/huangp/Documents/Barry/sideproject/Raw_Material_Price_Prediction/.venv/lib/python3.10/site-packages/sklearn/linear_model/_coordinate_descent.py:697: ConvergenceWarning: Objective did not converge. You might want to increase the number of iterations, check the scale of the features or consider increasing regularisation. Duality gap: 3.661e-03, tolerance: 2.904e-03\n",
      "  model = cd_fast.enet_coordinate_descent(\n",
      "/Users/huangp/Documents/Barry/sideproject/Raw_Material_Price_Prediction/.venv/lib/python3.10/site-packages/sklearn/linear_model/_coordinate_descent.py:697: ConvergenceWarning: Objective did not converge. You might want to increase the number of iterations, check the scale of the features or consider increasing regularisation. Duality gap: 7.003e-02, tolerance: 6.085e-03\n",
      "  model = cd_fast.enet_coordinate_descent(\n"
     ]
    },
    {
     "name": "stdout",
     "output_type": "stream",
     "text": [
      "non-ionic surfactant RM12/0002, 1-month lag, all features, average MAPE: 12.971\n"
     ]
    },
    {
     "name": "stderr",
     "output_type": "stream",
     "text": [
      "/Users/huangp/Documents/Barry/sideproject/Raw_Material_Price_Prediction/.venv/lib/python3.10/site-packages/sklearn/linear_model/_coordinate_descent.py:697: ConvergenceWarning: Objective did not converge. You might want to increase the number of iterations, check the scale of the features or consider increasing regularisation. Duality gap: 4.312e-02, tolerance: 3.512e-03\n",
      "  model = cd_fast.enet_coordinate_descent(\n",
      "/Users/huangp/Documents/Barry/sideproject/Raw_Material_Price_Prediction/.venv/lib/python3.10/site-packages/sklearn/linear_model/_coordinate_descent.py:697: ConvergenceWarning: Objective did not converge. You might want to increase the number of iterations, check the scale of the features or consider increasing regularisation. Duality gap: 7.796e-03, tolerance: 4.257e-03\n",
      "  model = cd_fast.enet_coordinate_descent(\n",
      "/Users/huangp/Documents/Barry/sideproject/Raw_Material_Price_Prediction/.venv/lib/python3.10/site-packages/sklearn/linear_model/_coordinate_descent.py:697: ConvergenceWarning: Objective did not converge. You might want to increase the number of iterations, check the scale of the features or consider increasing regularisation. Duality gap: 6.188e-03, tolerance: 3.985e-03\n",
      "  model = cd_fast.enet_coordinate_descent(\n",
      "/Users/huangp/Documents/Barry/sideproject/Raw_Material_Price_Prediction/.venv/lib/python3.10/site-packages/sklearn/linear_model/_coordinate_descent.py:697: ConvergenceWarning: Objective did not converge. You might want to increase the number of iterations, check the scale of the features or consider increasing regularisation. Duality gap: 1.405e-02, tolerance: 7.905e-03\n",
      "  model = cd_fast.enet_coordinate_descent(\n"
     ]
    },
    {
     "name": "stdout",
     "output_type": "stream",
     "text": [
      "non-ionic surfactant RM12/0002, 3-month lag, all features, average MAPE: 15.945\n"
     ]
    },
    {
     "name": "stderr",
     "output_type": "stream",
     "text": [
      "/Users/huangp/Documents/Barry/sideproject/Raw_Material_Price_Prediction/.venv/lib/python3.10/site-packages/sklearn/linear_model/_coordinate_descent.py:697: ConvergenceWarning: Objective did not converge. You might want to increase the number of iterations, check the scale of the features or consider increasing regularisation. Duality gap: 3.938e-02, tolerance: 3.379e-03\n",
      "  model = cd_fast.enet_coordinate_descent(\n"
     ]
    },
    {
     "name": "stdout",
     "output_type": "stream",
     "text": [
      "non-ionic surfactant RM12/0002, 6-month lag, all features, average MAPE: 14.231\n",
      "non-ionic surfactant RM12/0003, 1-month lag, all features, average MAPE: 10.613\n",
      "non-ionic surfactant RM12/0003, 3-month lag, all features, average MAPE: 11.299\n",
      "non-ionic surfactant RM12/0003, 6-month lag, all features, average MAPE: 12.556\n"
     ]
    },
    {
     "name": "stderr",
     "output_type": "stream",
     "text": [
      "/Users/huangp/Documents/Barry/sideproject/Raw_Material_Price_Prediction/.venv/lib/python3.10/site-packages/sklearn/linear_model/_coordinate_descent.py:697: ConvergenceWarning: Objective did not converge. You might want to increase the number of iterations, check the scale of the features or consider increasing regularisation. Duality gap: 3.977e-03, tolerance: 3.249e-03\n",
      "  model = cd_fast.enet_coordinate_descent(\n",
      "/Users/huangp/Documents/Barry/sideproject/Raw_Material_Price_Prediction/.venv/lib/python3.10/site-packages/sklearn/linear_model/_coordinate_descent.py:697: ConvergenceWarning: Objective did not converge. You might want to increase the number of iterations, check the scale of the features or consider increasing regularisation. Duality gap: 5.076e-03, tolerance: 3.189e-03\n",
      "  model = cd_fast.enet_coordinate_descent(\n",
      "/Users/huangp/Documents/Barry/sideproject/Raw_Material_Price_Prediction/.venv/lib/python3.10/site-packages/sklearn/linear_model/_coordinate_descent.py:697: ConvergenceWarning: Objective did not converge. You might want to increase the number of iterations, check the scale of the features or consider increasing regularisation. Duality gap: 2.109e-02, tolerance: 4.524e-03\n",
      "  model = cd_fast.enet_coordinate_descent(\n"
     ]
    },
    {
     "name": "stdout",
     "output_type": "stream",
     "text": [
      "non-ionic surfactant RM12/0005, 1-month lag, all features, average MAPE: 12.122\n",
      "non-ionic surfactant RM12/0005, 3-month lag, all features, average MAPE: 13.039\n",
      "non-ionic surfactant RM12/0005, 6-month lag, all features, average MAPE: 12.558\n"
     ]
    },
    {
     "name": "stderr",
     "output_type": "stream",
     "text": [
      "/Users/huangp/Documents/Barry/sideproject/Raw_Material_Price_Prediction/.venv/lib/python3.10/site-packages/sklearn/linear_model/_coordinate_descent.py:697: ConvergenceWarning: Objective did not converge. You might want to increase the number of iterations, check the scale of the features or consider increasing regularisation. Duality gap: 2.902e-03, tolerance: 2.359e-03\n",
      "  model = cd_fast.enet_coordinate_descent(\n",
      "/Users/huangp/Documents/Barry/sideproject/Raw_Material_Price_Prediction/.venv/lib/python3.10/site-packages/sklearn/linear_model/_coordinate_descent.py:697: ConvergenceWarning: Objective did not converge. You might want to increase the number of iterations, check the scale of the features or consider increasing regularisation. Duality gap: 1.441e-02, tolerance: 3.324e-03\n",
      "  model = cd_fast.enet_coordinate_descent(\n",
      "/Users/huangp/Documents/Barry/sideproject/Raw_Material_Price_Prediction/.venv/lib/python3.10/site-packages/sklearn/linear_model/_coordinate_descent.py:697: ConvergenceWarning: Objective did not converge. You might want to increase the number of iterations, check the scale of the features or consider increasing regularisation. Duality gap: 6.800e-03, tolerance: 3.180e-03\n",
      "  model = cd_fast.enet_coordinate_descent(\n",
      "/Users/huangp/Documents/Barry/sideproject/Raw_Material_Price_Prediction/.venv/lib/python3.10/site-packages/sklearn/linear_model/_coordinate_descent.py:697: ConvergenceWarning: Objective did not converge. You might want to increase the number of iterations, check the scale of the features or consider increasing regularisation. Duality gap: 4.208e-03, tolerance: 3.515e-03\n",
      "  model = cd_fast.enet_coordinate_descent(\n",
      "/Users/huangp/Documents/Barry/sideproject/Raw_Material_Price_Prediction/.venv/lib/python3.10/site-packages/sklearn/linear_model/_coordinate_descent.py:697: ConvergenceWarning: Objective did not converge. You might want to increase the number of iterations, check the scale of the features or consider increasing regularisation. Duality gap: 4.136e-03, tolerance: 3.622e-03\n",
      "  model = cd_fast.enet_coordinate_descent(\n",
      "/Users/huangp/Documents/Barry/sideproject/Raw_Material_Price_Prediction/.venv/lib/python3.10/site-packages/sklearn/linear_model/_coordinate_descent.py:697: ConvergenceWarning: Objective did not converge. You might want to increase the number of iterations, check the scale of the features or consider increasing regularisation. Duality gap: 6.969e-03, tolerance: 4.018e-03\n",
      "  model = cd_fast.enet_coordinate_descent(\n",
      "/Users/huangp/Documents/Barry/sideproject/Raw_Material_Price_Prediction/.venv/lib/python3.10/site-packages/sklearn/linear_model/_coordinate_descent.py:697: ConvergenceWarning: Objective did not converge. You might want to increase the number of iterations, check the scale of the features or consider increasing regularisation. Duality gap: 9.088e-03, tolerance: 4.129e-03\n",
      "  model = cd_fast.enet_coordinate_descent(\n",
      "/Users/huangp/Documents/Barry/sideproject/Raw_Material_Price_Prediction/.venv/lib/python3.10/site-packages/sklearn/linear_model/_coordinate_descent.py:697: ConvergenceWarning: Objective did not converge. You might want to increase the number of iterations, check the scale of the features or consider increasing regularisation. Duality gap: 8.889e-03, tolerance: 3.821e-03\n",
      "  model = cd_fast.enet_coordinate_descent(\n",
      "/Users/huangp/Documents/Barry/sideproject/Raw_Material_Price_Prediction/.venv/lib/python3.10/site-packages/sklearn/linear_model/_coordinate_descent.py:697: ConvergenceWarning: Objective did not converge. You might want to increase the number of iterations, check the scale of the features or consider increasing regularisation. Duality gap: 1.242e-02, tolerance: 5.751e-03\n",
      "  model = cd_fast.enet_coordinate_descent(\n",
      "/Users/huangp/Documents/Barry/sideproject/Raw_Material_Price_Prediction/.venv/lib/python3.10/site-packages/sklearn/linear_model/_coordinate_descent.py:697: ConvergenceWarning: Objective did not converge. You might want to increase the number of iterations, check the scale of the features or consider increasing regularisation. Duality gap: 8.015e-03, tolerance: 6.543e-03\n",
      "  model = cd_fast.enet_coordinate_descent(\n",
      "/Users/huangp/Documents/Barry/sideproject/Raw_Material_Price_Prediction/.venv/lib/python3.10/site-packages/sklearn/linear_model/_coordinate_descent.py:697: ConvergenceWarning: Objective did not converge. You might want to increase the number of iterations, check the scale of the features or consider increasing regularisation. Duality gap: 5.138e-02, tolerance: 5.842e-03\n",
      "  model = cd_fast.enet_coordinate_descent(\n",
      "/Users/huangp/Documents/Barry/sideproject/Raw_Material_Price_Prediction/.venv/lib/python3.10/site-packages/sklearn/linear_model/_coordinate_descent.py:697: ConvergenceWarning: Objective did not converge. You might want to increase the number of iterations, check the scale of the features or consider increasing regularisation. Duality gap: 1.595e-01, tolerance: 6.701e-03\n",
      "  model = cd_fast.enet_coordinate_descent(\n",
      "/Users/huangp/Documents/Barry/sideproject/Raw_Material_Price_Prediction/.venv/lib/python3.10/site-packages/sklearn/linear_model/_coordinate_descent.py:697: ConvergenceWarning: Objective did not converge. You might want to increase the number of iterations, check the scale of the features or consider increasing regularisation. Duality gap: 1.773e-01, tolerance: 6.543e-03\n",
      "  model = cd_fast.enet_coordinate_descent(\n",
      "/Users/huangp/Documents/Barry/sideproject/Raw_Material_Price_Prediction/.venv/lib/python3.10/site-packages/sklearn/linear_model/_coordinate_descent.py:697: ConvergenceWarning: Objective did not converge. You might want to increase the number of iterations, check the scale of the features or consider increasing regularisation. Duality gap: 1.966e-02, tolerance: 6.811e-03\n",
      "  model = cd_fast.enet_coordinate_descent(\n",
      "/Users/huangp/Documents/Barry/sideproject/Raw_Material_Price_Prediction/.venv/lib/python3.10/site-packages/sklearn/linear_model/_coordinate_descent.py:697: ConvergenceWarning: Objective did not converge. You might want to increase the number of iterations, check the scale of the features or consider increasing regularisation. Duality gap: 4.617e-02, tolerance: 6.140e-03\n",
      "  model = cd_fast.enet_coordinate_descent(\n",
      "/Users/huangp/Documents/Barry/sideproject/Raw_Material_Price_Prediction/.venv/lib/python3.10/site-packages/sklearn/linear_model/_coordinate_descent.py:697: ConvergenceWarning: Objective did not converge. You might want to increase the number of iterations, check the scale of the features or consider increasing regularisation. Duality gap: 3.247e-02, tolerance: 6.919e-03\n",
      "  model = cd_fast.enet_coordinate_descent(\n",
      "/Users/huangp/Documents/Barry/sideproject/Raw_Material_Price_Prediction/.venv/lib/python3.10/site-packages/sklearn/linear_model/_coordinate_descent.py:697: ConvergenceWarning: Objective did not converge. You might want to increase the number of iterations, check the scale of the features or consider increasing regularisation. Duality gap: 7.799e-02, tolerance: 6.959e-03\n",
      "  model = cd_fast.enet_coordinate_descent(\n"
     ]
    },
    {
     "name": "stdout",
     "output_type": "stream",
     "text": [
      "non-ionic surfactant RM12/0008, 1-month lag, all features, average MAPE: 12.170\n"
     ]
    },
    {
     "name": "stderr",
     "output_type": "stream",
     "text": [
      "/Users/huangp/Documents/Barry/sideproject/Raw_Material_Price_Prediction/.venv/lib/python3.10/site-packages/sklearn/linear_model/_coordinate_descent.py:697: ConvergenceWarning: Objective did not converge. You might want to increase the number of iterations, check the scale of the features or consider increasing regularisation. Duality gap: 3.697e-03, tolerance: 2.989e-03\n",
      "  model = cd_fast.enet_coordinate_descent(\n",
      "/Users/huangp/Documents/Barry/sideproject/Raw_Material_Price_Prediction/.venv/lib/python3.10/site-packages/sklearn/linear_model/_coordinate_descent.py:697: ConvergenceWarning: Objective did not converge. You might want to increase the number of iterations, check the scale of the features or consider increasing regularisation. Duality gap: 5.736e-03, tolerance: 3.622e-03\n",
      "  model = cd_fast.enet_coordinate_descent(\n",
      "/Users/huangp/Documents/Barry/sideproject/Raw_Material_Price_Prediction/.venv/lib/python3.10/site-packages/sklearn/linear_model/_coordinate_descent.py:697: ConvergenceWarning: Objective did not converge. You might want to increase the number of iterations, check the scale of the features or consider increasing regularisation. Duality gap: 9.322e-03, tolerance: 4.018e-03\n",
      "  model = cd_fast.enet_coordinate_descent(\n",
      "/Users/huangp/Documents/Barry/sideproject/Raw_Material_Price_Prediction/.venv/lib/python3.10/site-packages/sklearn/linear_model/_coordinate_descent.py:697: ConvergenceWarning: Objective did not converge. You might want to increase the number of iterations, check the scale of the features or consider increasing regularisation. Duality gap: 3.635e-03, tolerance: 3.439e-03\n",
      "  model = cd_fast.enet_coordinate_descent(\n",
      "/Users/huangp/Documents/Barry/sideproject/Raw_Material_Price_Prediction/.venv/lib/python3.10/site-packages/sklearn/linear_model/_coordinate_descent.py:697: ConvergenceWarning: Objective did not converge. You might want to increase the number of iterations, check the scale of the features or consider increasing regularisation. Duality gap: 3.916e-03, tolerance: 3.515e-03\n",
      "  model = cd_fast.enet_coordinate_descent(\n",
      "/Users/huangp/Documents/Barry/sideproject/Raw_Material_Price_Prediction/.venv/lib/python3.10/site-packages/sklearn/linear_model/_coordinate_descent.py:697: ConvergenceWarning: Objective did not converge. You might want to increase the number of iterations, check the scale of the features or consider increasing regularisation. Duality gap: 7.992e-03, tolerance: 4.221e-03\n",
      "  model = cd_fast.enet_coordinate_descent(\n",
      "/Users/huangp/Documents/Barry/sideproject/Raw_Material_Price_Prediction/.venv/lib/python3.10/site-packages/sklearn/linear_model/_coordinate_descent.py:697: ConvergenceWarning: Objective did not converge. You might want to increase the number of iterations, check the scale of the features or consider increasing regularisation. Duality gap: 7.229e-03, tolerance: 6.701e-03\n",
      "  model = cd_fast.enet_coordinate_descent(\n",
      "/Users/huangp/Documents/Barry/sideproject/Raw_Material_Price_Prediction/.venv/lib/python3.10/site-packages/sklearn/linear_model/_coordinate_descent.py:697: ConvergenceWarning: Objective did not converge. You might want to increase the number of iterations, check the scale of the features or consider increasing regularisation. Duality gap: 4.317e-02, tolerance: 6.701e-03\n",
      "  model = cd_fast.enet_coordinate_descent(\n",
      "/Users/huangp/Documents/Barry/sideproject/Raw_Material_Price_Prediction/.venv/lib/python3.10/site-packages/sklearn/linear_model/_coordinate_descent.py:697: ConvergenceWarning: Objective did not converge. You might want to increase the number of iterations, check the scale of the features or consider increasing regularisation. Duality gap: 6.284e-03, tolerance: 6.140e-03\n",
      "  model = cd_fast.enet_coordinate_descent(\n"
     ]
    },
    {
     "name": "stdout",
     "output_type": "stream",
     "text": [
      "non-ionic surfactant RM12/0008, 3-month lag, all features, average MAPE: 12.428\n"
     ]
    },
    {
     "name": "stderr",
     "output_type": "stream",
     "text": [
      "/Users/huangp/Documents/Barry/sideproject/Raw_Material_Price_Prediction/.venv/lib/python3.10/site-packages/sklearn/linear_model/_coordinate_descent.py:697: ConvergenceWarning: Objective did not converge. You might want to increase the number of iterations, check the scale of the features or consider increasing regularisation. Duality gap: 7.041e-03, tolerance: 2.672e-03\n",
      "  model = cd_fast.enet_coordinate_descent(\n",
      "/Users/huangp/Documents/Barry/sideproject/Raw_Material_Price_Prediction/.venv/lib/python3.10/site-packages/sklearn/linear_model/_coordinate_descent.py:697: ConvergenceWarning: Objective did not converge. You might want to increase the number of iterations, check the scale of the features or consider increasing regularisation. Duality gap: 9.204e-03, tolerance: 3.207e-03\n",
      "  model = cd_fast.enet_coordinate_descent(\n"
     ]
    },
    {
     "name": "stdout",
     "output_type": "stream",
     "text": [
      "non-ionic surfactant RM12/0008, 6-month lag, all features, average MAPE: 14.665\n"
     ]
    },
    {
     "name": "stderr",
     "output_type": "stream",
     "text": [
      "/Users/huangp/Documents/Barry/sideproject/Raw_Material_Price_Prediction/.venv/lib/python3.10/site-packages/sklearn/linear_model/_coordinate_descent.py:697: ConvergenceWarning: Objective did not converge. You might want to increase the number of iterations, check the scale of the features or consider increasing regularisation. Duality gap: 2.817e-02, tolerance: 2.320e-03\n",
      "  model = cd_fast.enet_coordinate_descent(\n",
      "/Users/huangp/Documents/Barry/sideproject/Raw_Material_Price_Prediction/.venv/lib/python3.10/site-packages/sklearn/linear_model/_coordinate_descent.py:697: ConvergenceWarning: Objective did not converge. You might want to increase the number of iterations, check the scale of the features or consider increasing regularisation. Duality gap: 1.989e-02, tolerance: 2.287e-03\n",
      "  model = cd_fast.enet_coordinate_descent(\n",
      "/Users/huangp/Documents/Barry/sideproject/Raw_Material_Price_Prediction/.venv/lib/python3.10/site-packages/sklearn/linear_model/_coordinate_descent.py:697: ConvergenceWarning: Objective did not converge. You might want to increase the number of iterations, check the scale of the features or consider increasing regularisation. Duality gap: 3.545e-03, tolerance: 2.320e-03\n",
      "  model = cd_fast.enet_coordinate_descent(\n",
      "/Users/huangp/Documents/Barry/sideproject/Raw_Material_Price_Prediction/.venv/lib/python3.10/site-packages/sklearn/linear_model/_coordinate_descent.py:697: ConvergenceWarning: Objective did not converge. You might want to increase the number of iterations, check the scale of the features or consider increasing regularisation. Duality gap: 1.429e-02, tolerance: 2.943e-03\n",
      "  model = cd_fast.enet_coordinate_descent(\n",
      "/Users/huangp/Documents/Barry/sideproject/Raw_Material_Price_Prediction/.venv/lib/python3.10/site-packages/sklearn/linear_model/_coordinate_descent.py:697: ConvergenceWarning: Objective did not converge. You might want to increase the number of iterations, check the scale of the features or consider increasing regularisation. Duality gap: 4.395e-03, tolerance: 3.818e-03\n",
      "  model = cd_fast.enet_coordinate_descent(\n",
      "/Users/huangp/Documents/Barry/sideproject/Raw_Material_Price_Prediction/.venv/lib/python3.10/site-packages/sklearn/linear_model/_coordinate_descent.py:697: ConvergenceWarning: Objective did not converge. You might want to increase the number of iterations, check the scale of the features or consider increasing regularisation. Duality gap: 8.753e-03, tolerance: 3.964e-03\n",
      "  model = cd_fast.enet_coordinate_descent(\n",
      "/Users/huangp/Documents/Barry/sideproject/Raw_Material_Price_Prediction/.venv/lib/python3.10/site-packages/sklearn/linear_model/_coordinate_descent.py:697: ConvergenceWarning: Objective did not converge. You might want to increase the number of iterations, check the scale of the features or consider increasing regularisation. Duality gap: 4.063e-03, tolerance: 3.351e-03\n",
      "  model = cd_fast.enet_coordinate_descent(\n",
      "/Users/huangp/Documents/Barry/sideproject/Raw_Material_Price_Prediction/.venv/lib/python3.10/site-packages/sklearn/linear_model/_coordinate_descent.py:697: ConvergenceWarning: Objective did not converge. You might want to increase the number of iterations, check the scale of the features or consider increasing regularisation. Duality gap: 5.410e-03, tolerance: 3.964e-03\n",
      "  model = cd_fast.enet_coordinate_descent(\n",
      "/Users/huangp/Documents/Barry/sideproject/Raw_Material_Price_Prediction/.venv/lib/python3.10/site-packages/sklearn/linear_model/_coordinate_descent.py:697: ConvergenceWarning: Objective did not converge. You might want to increase the number of iterations, check the scale of the features or consider increasing regularisation. Duality gap: 4.736e-03, tolerance: 4.532e-03\n",
      "  model = cd_fast.enet_coordinate_descent(\n",
      "/Users/huangp/Documents/Barry/sideproject/Raw_Material_Price_Prediction/.venv/lib/python3.10/site-packages/sklearn/linear_model/_coordinate_descent.py:697: ConvergenceWarning: Objective did not converge. You might want to increase the number of iterations, check the scale of the features or consider increasing regularisation. Duality gap: 5.173e-03, tolerance: 5.128e-03\n",
      "  model = cd_fast.enet_coordinate_descent(\n",
      "/Users/huangp/Documents/Barry/sideproject/Raw_Material_Price_Prediction/.venv/lib/python3.10/site-packages/sklearn/linear_model/_coordinate_descent.py:697: ConvergenceWarning: Objective did not converge. You might want to increase the number of iterations, check the scale of the features or consider increasing regularisation. Duality gap: 1.549e-02, tolerance: 5.833e-03\n",
      "  model = cd_fast.enet_coordinate_descent(\n",
      "/Users/huangp/Documents/Barry/sideproject/Raw_Material_Price_Prediction/.venv/lib/python3.10/site-packages/sklearn/linear_model/_coordinate_descent.py:697: ConvergenceWarning: Objective did not converge. You might want to increase the number of iterations, check the scale of the features or consider increasing regularisation. Duality gap: 1.421e-02, tolerance: 6.197e-03\n",
      "  model = cd_fast.enet_coordinate_descent(\n",
      "/Users/huangp/Documents/Barry/sideproject/Raw_Material_Price_Prediction/.venv/lib/python3.10/site-packages/sklearn/linear_model/_coordinate_descent.py:697: ConvergenceWarning: Objective did not converge. You might want to increase the number of iterations, check the scale of the features or consider increasing regularisation. Duality gap: 2.739e-02, tolerance: 6.445e-03\n",
      "  model = cd_fast.enet_coordinate_descent(\n",
      "/Users/huangp/Documents/Barry/sideproject/Raw_Material_Price_Prediction/.venv/lib/python3.10/site-packages/sklearn/linear_model/_coordinate_descent.py:697: ConvergenceWarning: Objective did not converge. You might want to increase the number of iterations, check the scale of the features or consider increasing regularisation. Duality gap: 1.615e-02, tolerance: 6.606e-03\n",
      "  model = cd_fast.enet_coordinate_descent(\n"
     ]
    },
    {
     "name": "stdout",
     "output_type": "stream",
     "text": [
      "non-ionic surfactant RM12/0012, 1-month lag, all features, average MAPE: 14.069\n"
     ]
    },
    {
     "name": "stderr",
     "output_type": "stream",
     "text": [
      "/Users/huangp/Documents/Barry/sideproject/Raw_Material_Price_Prediction/.venv/lib/python3.10/site-packages/sklearn/linear_model/_coordinate_descent.py:697: ConvergenceWarning: Objective did not converge. You might want to increase the number of iterations, check the scale of the features or consider increasing regularisation. Duality gap: 4.274e-03, tolerance: 2.960e-03\n",
      "  model = cd_fast.enet_coordinate_descent(\n",
      "/Users/huangp/Documents/Barry/sideproject/Raw_Material_Price_Prediction/.venv/lib/python3.10/site-packages/sklearn/linear_model/_coordinate_descent.py:697: ConvergenceWarning: Objective did not converge. You might want to increase the number of iterations, check the scale of the features or consider increasing regularisation. Duality gap: 7.097e-02, tolerance: 2.637e-03\n",
      "  model = cd_fast.enet_coordinate_descent(\n",
      "/Users/huangp/Documents/Barry/sideproject/Raw_Material_Price_Prediction/.venv/lib/python3.10/site-packages/sklearn/linear_model/_coordinate_descent.py:697: ConvergenceWarning: Objective did not converge. You might want to increase the number of iterations, check the scale of the features or consider increasing regularisation. Duality gap: 5.268e-02, tolerance: 2.854e-03\n",
      "  model = cd_fast.enet_coordinate_descent(\n",
      "/Users/huangp/Documents/Barry/sideproject/Raw_Material_Price_Prediction/.venv/lib/python3.10/site-packages/sklearn/linear_model/_coordinate_descent.py:697: ConvergenceWarning: Objective did not converge. You might want to increase the number of iterations, check the scale of the features or consider increasing regularisation. Duality gap: 5.728e-03, tolerance: 3.461e-03\n",
      "  model = cd_fast.enet_coordinate_descent(\n",
      "/Users/huangp/Documents/Barry/sideproject/Raw_Material_Price_Prediction/.venv/lib/python3.10/site-packages/sklearn/linear_model/_coordinate_descent.py:697: ConvergenceWarning: Objective did not converge. You might want to increase the number of iterations, check the scale of the features or consider increasing regularisation. Duality gap: 8.465e-03, tolerance: 2.934e-03\n",
      "  model = cd_fast.enet_coordinate_descent(\n",
      "/Users/huangp/Documents/Barry/sideproject/Raw_Material_Price_Prediction/.venv/lib/python3.10/site-packages/sklearn/linear_model/_coordinate_descent.py:697: ConvergenceWarning: Objective did not converge. You might want to increase the number of iterations, check the scale of the features or consider increasing regularisation. Duality gap: 9.683e-03, tolerance: 2.943e-03\n",
      "  model = cd_fast.enet_coordinate_descent(\n",
      "/Users/huangp/Documents/Barry/sideproject/Raw_Material_Price_Prediction/.venv/lib/python3.10/site-packages/sklearn/linear_model/_coordinate_descent.py:697: ConvergenceWarning: Objective did not converge. You might want to increase the number of iterations, check the scale of the features or consider increasing regularisation. Duality gap: 1.733e-02, tolerance: 3.351e-03\n",
      "  model = cd_fast.enet_coordinate_descent(\n",
      "/Users/huangp/Documents/Barry/sideproject/Raw_Material_Price_Prediction/.venv/lib/python3.10/site-packages/sklearn/linear_model/_coordinate_descent.py:697: ConvergenceWarning: Objective did not converge. You might want to increase the number of iterations, check the scale of the features or consider increasing regularisation. Duality gap: 2.911e-02, tolerance: 4.265e-03\n",
      "  model = cd_fast.enet_coordinate_descent(\n",
      "/Users/huangp/Documents/Barry/sideproject/Raw_Material_Price_Prediction/.venv/lib/python3.10/site-packages/sklearn/linear_model/_coordinate_descent.py:697: ConvergenceWarning: Objective did not converge. You might want to increase the number of iterations, check the scale of the features or consider increasing regularisation. Duality gap: 5.543e-03, tolerance: 4.113e-03\n",
      "  model = cd_fast.enet_coordinate_descent(\n",
      "/Users/huangp/Documents/Barry/sideproject/Raw_Material_Price_Prediction/.venv/lib/python3.10/site-packages/sklearn/linear_model/_coordinate_descent.py:697: ConvergenceWarning: Objective did not converge. You might want to increase the number of iterations, check the scale of the features or consider increasing regularisation. Duality gap: 7.144e-03, tolerance: 4.532e-03\n",
      "  model = cd_fast.enet_coordinate_descent(\n",
      "/Users/huangp/Documents/Barry/sideproject/Raw_Material_Price_Prediction/.venv/lib/python3.10/site-packages/sklearn/linear_model/_coordinate_descent.py:697: ConvergenceWarning: Objective did not converge. You might want to increase the number of iterations, check the scale of the features or consider increasing regularisation. Duality gap: 1.095e-02, tolerance: 6.498e-03\n",
      "  model = cd_fast.enet_coordinate_descent(\n"
     ]
    },
    {
     "name": "stdout",
     "output_type": "stream",
     "text": [
      "non-ionic surfactant RM12/0012, 3-month lag, all features, average MAPE: 14.993\n"
     ]
    },
    {
     "name": "stderr",
     "output_type": "stream",
     "text": [
      "/Users/huangp/Documents/Barry/sideproject/Raw_Material_Price_Prediction/.venv/lib/python3.10/site-packages/sklearn/linear_model/_coordinate_descent.py:697: ConvergenceWarning: Objective did not converge. You might want to increase the number of iterations, check the scale of the features or consider increasing regularisation. Duality gap: 8.615e-03, tolerance: 2.960e-03\n",
      "  model = cd_fast.enet_coordinate_descent(\n",
      "/Users/huangp/Documents/Barry/sideproject/Raw_Material_Price_Prediction/.venv/lib/python3.10/site-packages/sklearn/linear_model/_coordinate_descent.py:697: ConvergenceWarning: Objective did not converge. You might want to increase the number of iterations, check the scale of the features or consider increasing regularisation. Duality gap: 5.060e-02, tolerance: 3.461e-03\n",
      "  model = cd_fast.enet_coordinate_descent(\n",
      "/Users/huangp/Documents/Barry/sideproject/Raw_Material_Price_Prediction/.venv/lib/python3.10/site-packages/sklearn/linear_model/_coordinate_descent.py:697: ConvergenceWarning: Objective did not converge. You might want to increase the number of iterations, check the scale of the features or consider increasing regularisation. Duality gap: 3.866e-03, tolerance: 3.343e-03\n",
      "  model = cd_fast.enet_coordinate_descent(\n",
      "/Users/huangp/Documents/Barry/sideproject/Raw_Material_Price_Prediction/.venv/lib/python3.10/site-packages/sklearn/linear_model/_coordinate_descent.py:697: ConvergenceWarning: Objective did not converge. You might want to increase the number of iterations, check the scale of the features or consider increasing regularisation. Duality gap: 2.797e-02, tolerance: 3.351e-03\n",
      "  model = cd_fast.enet_coordinate_descent(\n"
     ]
    },
    {
     "name": "stdout",
     "output_type": "stream",
     "text": [
      "non-ionic surfactant RM12/0012, 6-month lag, all features, average MAPE: 16.598\n"
     ]
    }
   ],
   "execution_count": 5
  }
 ],
 "metadata": {
  "language_info": {
   "name": "python",
   "version": "3.10.12",
   "mimetype": "text/x-python",
   "codemirror_mode": {
    "name": "ipython",
    "version": 3
   },
   "pygments_lexer": "ipython3",
   "nbconvert_exporter": "python",
   "file_extension": ".py"
  },
  "kernelspec": {
   "display_name": "Python 3 (ipykernel)",
   "language": "python",
   "name": "python3"
  },
  "editor": "DataLab"
 },
 "nbformat": 4,
 "nbformat_minor": 5
}
